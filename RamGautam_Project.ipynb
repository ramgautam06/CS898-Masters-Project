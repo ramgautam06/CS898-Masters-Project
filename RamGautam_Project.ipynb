{
 "cells": [
  {
   "cell_type": "markdown",
   "metadata": {},
   "source": [
    "# Predicting Pest Counts - NH farms "
   ]
  },
  {
   "cell_type": "markdown",
   "metadata": {},
   "source": [
    "# Ram Gautam "
   ]
  },
  {
   "cell_type": "code",
   "execution_count": 191,
   "metadata": {},
   "outputs": [],
   "source": [
    "import pandas as pd \n",
    "from patsy import dmatrices\n",
    "import numpy as np\n",
    "import statsmodels.api as sm\n",
    "import matplotlib.pyplot as plt"
   ]
  },
  {
   "cell_type": "code",
   "execution_count": 192,
   "metadata": {},
   "outputs": [],
   "source": [
    "import  seaborn as sns\n",
    "from sklearn.model_selection import train_test_split\n",
    "from sklearn.linear_model import LinearRegression\n",
    "from sklearn import metrics"
   ]
  },
  {
   "cell_type": "markdown",
   "metadata": {
    "pycharm": {
     "name": "#%% md\n"
    }
   },
   "source": [
    "# 1. Multiple Linear Regression "
   ]
  },
  {
   "cell_type": "code",
   "execution_count": 287,
   "metadata": {
    "pycharm": {
     "name": "#%%\n"
    }
   },
   "outputs": [],
   "source": [
    "def Multiple_Linear_Regression(df_LinearRegression):\n",
    "    #print (df_CEW_final.head())\n",
    "    #print(\"Calling Multiple Linear Regression Modle\")\n",
    "    #print(sns.distplot(df_CEW_final['trap_count']))\n",
    "    X_LR = df_LinearRegression[['tempf', 'dwpf', 'drct', 'feel']]\n",
    "    y_LR = df_LinearRegression['trap_count']\n",
    "    \n",
    "    #splitting data into training and testing data\n",
    "    X_train_lm, X_test_lm, y_train_lm,y_test_lm = train_test_split(X_LR,y_LR, test_size = 0.2, random_state = 101)\n",
    "    #traing the data into the model\n",
    "    regressionModel = LinearRegression()\n",
    "    regressionModel.fit(X_train_lm, y_train_lm)\n",
    "    \n",
    "    #get the intercept\n",
    "    print(\"Intercept: \" , regressionModel.intercept_)\n",
    "    \n",
    "    #get the coeffecients\n",
    "    print(\"Coeffecients \" , regressionModel.coef_)\n",
    "    \n",
    "    #do the predictions - we need to pass the featuress that the model never seen before\n",
    "    predictions = regressionModel.predict(X_test_lm)\n",
    "    predictions_ret = regressionModel.predict(X_LR)\n",
    "    print(predictions.shape)\n",
    "    \n",
    "    #print(y_test_lm)\n",
    "    \n",
    "    #cheking with the sctter plot \n",
    "    plt.scatter(y_test_lm , predictions)\n",
    "    \n",
    "    print(\"----------- Linear Regression Evaluations------------\")\n",
    "    print(\"Mean Absolute Error (MAE): \", metrics.mean_absolute_error(y_test_lm , predictions))\n",
    "    print(\"Mean Squared Eror (MSE): \", metrics.mean_squared_error(y_test_lm , predictions))\n",
    "    print(\"Root Mean Squared Eror (RMSE): \", np.sqrt(metrics.mean_squared_error(y_test_lm , predictions)))\n",
    "    \n",
    "    #sns.distplot((y_test_lm - predictions))\n",
    "    df_LinearRegression['regression_count'] = predictions_ret\n",
    "    \n",
    "    return df_LinearRegression\n"
   ]
  },
  {
   "cell_type": "code",
   "execution_count": 237,
   "metadata": {},
   "outputs": [],
   "source": [
    "#reading the data frame\n",
    "df = pd.read_csv('pest_traps.csv', header=0, infer_datetime_format=True, parse_dates=[0], index_col=[0])"
   ]
  },
  {
   "cell_type": "code",
   "execution_count": 238,
   "metadata": {},
   "outputs": [
    {
     "data": {
      "text/plain": [
       "(12434, 7)"
      ]
     },
     "execution_count": 238,
     "metadata": {},
     "output_type": "execute_result"
    }
   ],
   "source": [
    "df.shape"
   ]
  },
  {
   "cell_type": "markdown",
   "metadata": {
    "pycharm": {
     "name": "#%% md\n"
    }
   },
   "source": [
    "# Building dataframe for the pest CEW"
   ]
  },
  {
   "cell_type": "code",
   "execution_count": 239,
   "metadata": {},
   "outputs": [],
   "source": [
    "#dividing the dataframe based on each pests - pest CEW\n",
    "df_CEW = df.loc[['CEW'], ['farm', 'trap_count','year','date']]"
   ]
  },
  {
   "cell_type": "code",
   "execution_count": 240,
   "metadata": {},
   "outputs": [
    {
     "data": {
      "text/html": [
       "<div>\n",
       "<style scoped>\n",
       "    .dataframe tbody tr th:only-of-type {\n",
       "        vertical-align: middle;\n",
       "    }\n",
       "\n",
       "    .dataframe tbody tr th {\n",
       "        vertical-align: top;\n",
       "    }\n",
       "\n",
       "    .dataframe thead th {\n",
       "        text-align: right;\n",
       "    }\n",
       "</style>\n",
       "<table border=\"1\" class=\"dataframe\">\n",
       "  <thead>\n",
       "    <tr style=\"text-align: right;\">\n",
       "      <th></th>\n",
       "      <th>farm</th>\n",
       "      <th>trap_count</th>\n",
       "      <th>year</th>\n",
       "      <th>date</th>\n",
       "    </tr>\n",
       "    <tr>\n",
       "      <th>pest</th>\n",
       "      <th></th>\n",
       "      <th></th>\n",
       "      <th></th>\n",
       "      <th></th>\n",
       "    </tr>\n",
       "  </thead>\n",
       "  <tbody>\n",
       "    <tr>\n",
       "      <th>CEW</th>\n",
       "      <td>Pelham-G</td>\n",
       "      <td>0</td>\n",
       "      <td>2006</td>\n",
       "      <td>20060619</td>\n",
       "    </tr>\n",
       "    <tr>\n",
       "      <th>CEW</th>\n",
       "      <td>Litchfield-W</td>\n",
       "      <td>0</td>\n",
       "      <td>2006</td>\n",
       "      <td>20060619</td>\n",
       "    </tr>\n",
       "    <tr>\n",
       "      <th>CEW</th>\n",
       "      <td>Litchfield-M</td>\n",
       "      <td>0</td>\n",
       "      <td>2006</td>\n",
       "      <td>20060619</td>\n",
       "    </tr>\n",
       "    <tr>\n",
       "      <th>CEW</th>\n",
       "      <td>Merrimack-T</td>\n",
       "      <td>0</td>\n",
       "      <td>2006</td>\n",
       "      <td>20060619</td>\n",
       "    </tr>\n",
       "    <tr>\n",
       "      <th>CEW</th>\n",
       "      <td>Hollis-L</td>\n",
       "      <td>1</td>\n",
       "      <td>2006</td>\n",
       "      <td>20060619</td>\n",
       "    </tr>\n",
       "  </tbody>\n",
       "</table>\n",
       "</div>"
      ],
      "text/plain": [
       "              farm  trap_count  year      date\n",
       "pest                                          \n",
       "CEW       Pelham-G           0  2006  20060619\n",
       "CEW   Litchfield-W           0  2006  20060619\n",
       "CEW   Litchfield-M           0  2006  20060619\n",
       "CEW    Merrimack-T           0  2006  20060619\n",
       "CEW       Hollis-L           1  2006  20060619"
      ]
     },
     "execution_count": 240,
     "metadata": {},
     "output_type": "execute_result"
    }
   ],
   "source": [
    "df_CEW.head()"
   ]
  },
  {
   "cell_type": "code",
   "execution_count": 241,
   "metadata": {},
   "outputs": [
    {
     "data": {
      "text/html": [
       "<div>\n",
       "<style scoped>\n",
       "    .dataframe tbody tr th:only-of-type {\n",
       "        vertical-align: middle;\n",
       "    }\n",
       "\n",
       "    .dataframe tbody tr th {\n",
       "        vertical-align: top;\n",
       "    }\n",
       "\n",
       "    .dataframe thead th {\n",
       "        text-align: right;\n",
       "    }\n",
       "</style>\n",
       "<table border=\"1\" class=\"dataframe\">\n",
       "  <thead>\n",
       "    <tr style=\"text-align: right;\">\n",
       "      <th></th>\n",
       "      <th>farm</th>\n",
       "      <th>trap_count</th>\n",
       "      <th>year</th>\n",
       "      <th>date</th>\n",
       "    </tr>\n",
       "    <tr>\n",
       "      <th>pest</th>\n",
       "      <th></th>\n",
       "      <th></th>\n",
       "      <th></th>\n",
       "      <th></th>\n",
       "    </tr>\n",
       "  </thead>\n",
       "  <tbody>\n",
       "    <tr>\n",
       "      <th>CEW</th>\n",
       "      <td>Hollis-K</td>\n",
       "      <td>3</td>\n",
       "      <td>2018</td>\n",
       "      <td>20181008</td>\n",
       "    </tr>\n",
       "    <tr>\n",
       "      <th>CEW</th>\n",
       "      <td>Hollis-B2</td>\n",
       "      <td>0</td>\n",
       "      <td>2018</td>\n",
       "      <td>20181008</td>\n",
       "    </tr>\n",
       "    <tr>\n",
       "      <th>CEW</th>\n",
       "      <td>Hollis-L</td>\n",
       "      <td>8</td>\n",
       "      <td>2018</td>\n",
       "      <td>20181008</td>\n",
       "    </tr>\n",
       "    <tr>\n",
       "      <th>CEW</th>\n",
       "      <td>Hollis-K</td>\n",
       "      <td>3</td>\n",
       "      <td>2018</td>\n",
       "      <td>20181015</td>\n",
       "    </tr>\n",
       "    <tr>\n",
       "      <th>CEW</th>\n",
       "      <td>Hollis-L</td>\n",
       "      <td>2</td>\n",
       "      <td>2018</td>\n",
       "      <td>20181015</td>\n",
       "    </tr>\n",
       "  </tbody>\n",
       "</table>\n",
       "</div>"
      ],
      "text/plain": [
       "           farm  trap_count  year      date\n",
       "pest                                       \n",
       "CEW    Hollis-K           3  2018  20181008\n",
       "CEW   Hollis-B2           0  2018  20181008\n",
       "CEW    Hollis-L           8  2018  20181008\n",
       "CEW    Hollis-K           3  2018  20181015\n",
       "CEW    Hollis-L           2  2018  20181015"
      ]
     },
     "execution_count": 241,
     "metadata": {},
     "output_type": "execute_result"
    }
   ],
   "source": [
    "df_CEW.tail()"
   ]
  },
  {
   "cell_type": "code",
   "execution_count": 242,
   "metadata": {},
   "outputs": [
    {
     "data": {
      "text/plain": [
       "(3626, 4)"
      ]
     },
     "execution_count": 242,
     "metadata": {},
     "output_type": "execute_result"
    }
   ],
   "source": [
    "df_CEW.shape"
   ]
  },
  {
   "cell_type": "code",
   "execution_count": 243,
   "metadata": {
    "pycharm": {
     "name": "#%%\n"
    }
   },
   "outputs": [],
   "source": [
    "from datetime import date \n",
    "\n",
    "def compute_weeks(startDate, endDate):\n",
    "    s_yyyy = str(startDate)[0:4]\n",
    "    s_mm = str(startDate)[5:7]\n",
    "    s_dd = str(startDate)[8:10]\n",
    "            \n",
    "    d1 = date(int(s_yyyy),int(s_mm),int(s_dd))\n",
    "    \n",
    "    e_yyyy = str(endDate)[0:4]\n",
    "    e_mm = str(endDate)[5:7]\n",
    "    e_dd = str(endDate)[8:10]\n",
    "            \n",
    "    d2 = date(int(e_yyyy),int(e_mm),int(e_dd))\n",
    "    \n",
    "    return (int((d2-d1).days / 7))\n",
    "            \n",
    "def convert_pandasDate(change_date):\n",
    "    change_date = str(change_date)[:4] + \"/\" + str(change_date)[4:6] + \"/\" + str(change_date)[6:8]\n",
    "    change_date = pd.to_datetime(change_date)\n",
    "    return (change_date)\n",
    "    "
   ]
  },
  {
   "cell_type": "code",
   "execution_count": 244,
   "metadata": {},
   "outputs": [
    {
     "name": "stdout",
     "output_type": "stream",
     "text": [
      "2006-06-19 00:00:00\n",
      "2018-10-15 00:00:00\n",
      "total weeeks  643\n"
     ]
    }
   ],
   "source": [
    "start_cew_date = df_CEW['date'].values[0]\n",
    "search_cew_STdate = convert_pandasDate(start_cew_date)\n",
    "\n",
    "end_cew_date = df_CEW['date'].values[3626-1]\n",
    "search_cew_ENDdate = convert_pandasDate(end_cew_date)\n",
    "\n",
    "df_CEW['date'] = df_CEW['date'].apply(convert_pandasDate)\n",
    "#df_CEW['date'] = pd.to_datetime(df_CEW['date'])\n",
    "\n",
    "print(search_cew_STdate)\n",
    "print(search_cew_ENDdate)\n",
    "\n",
    "print(\"total weeeks \" , compute_weeks(search_cew_STdate, search_cew_ENDdate))"
   ]
  },
  {
   "cell_type": "code",
   "execution_count": 245,
   "metadata": {},
   "outputs": [],
   "source": [
    "df_CEW['date'] = pd.to_datetime(df_CEW['date'])"
   ]
  },
  {
   "cell_type": "markdown",
   "metadata": {
    "pycharm": {
     "name": "#%% md\n"
    }
   },
   "source": [
    "# Building dataframe for the pest ECB  "
   ]
  },
  {
   "cell_type": "code",
   "execution_count": 246,
   "metadata": {},
   "outputs": [],
   "source": [
    "#dividing the dataframe based on each pests - pest ECB\n",
    "df_ECB = df.loc[['ECB'], ['farm', 'trap_count','year','date']]"
   ]
  },
  {
   "cell_type": "code",
   "execution_count": 247,
   "metadata": {},
   "outputs": [
    {
     "data": {
      "text/html": [
       "<div>\n",
       "<style scoped>\n",
       "    .dataframe tbody tr th:only-of-type {\n",
       "        vertical-align: middle;\n",
       "    }\n",
       "\n",
       "    .dataframe tbody tr th {\n",
       "        vertical-align: top;\n",
       "    }\n",
       "\n",
       "    .dataframe thead th {\n",
       "        text-align: right;\n",
       "    }\n",
       "</style>\n",
       "<table border=\"1\" class=\"dataframe\">\n",
       "  <thead>\n",
       "    <tr style=\"text-align: right;\">\n",
       "      <th></th>\n",
       "      <th>farm</th>\n",
       "      <th>trap_count</th>\n",
       "      <th>year</th>\n",
       "      <th>date</th>\n",
       "    </tr>\n",
       "    <tr>\n",
       "      <th>pest</th>\n",
       "      <th></th>\n",
       "      <th></th>\n",
       "      <th></th>\n",
       "      <th></th>\n",
       "    </tr>\n",
       "  </thead>\n",
       "  <tbody>\n",
       "    <tr>\n",
       "      <th>ECB</th>\n",
       "      <td>Litchfield-W</td>\n",
       "      <td>16</td>\n",
       "      <td>2006</td>\n",
       "      <td>20060619</td>\n",
       "    </tr>\n",
       "    <tr>\n",
       "      <th>ECB</th>\n",
       "      <td>Hollis-B</td>\n",
       "      <td>7</td>\n",
       "      <td>2006</td>\n",
       "      <td>20060619</td>\n",
       "    </tr>\n",
       "    <tr>\n",
       "      <th>ECB</th>\n",
       "      <td>Mason-B</td>\n",
       "      <td>11</td>\n",
       "      <td>2006</td>\n",
       "      <td>20060619</td>\n",
       "    </tr>\n",
       "    <tr>\n",
       "      <th>ECB</th>\n",
       "      <td>Litchfield-W</td>\n",
       "      <td>25</td>\n",
       "      <td>2006</td>\n",
       "      <td>20060626</td>\n",
       "    </tr>\n",
       "    <tr>\n",
       "      <th>ECB</th>\n",
       "      <td>Hollis-B</td>\n",
       "      <td>31</td>\n",
       "      <td>2006</td>\n",
       "      <td>20060626</td>\n",
       "    </tr>\n",
       "  </tbody>\n",
       "</table>\n",
       "</div>"
      ],
      "text/plain": [
       "              farm  trap_count  year      date\n",
       "pest                                          \n",
       "ECB   Litchfield-W          16  2006  20060619\n",
       "ECB       Hollis-B           7  2006  20060619\n",
       "ECB        Mason-B          11  2006  20060619\n",
       "ECB   Litchfield-W          25  2006  20060626\n",
       "ECB       Hollis-B          31  2006  20060626"
      ]
     },
     "execution_count": 247,
     "metadata": {},
     "output_type": "execute_result"
    }
   ],
   "source": [
    "df_ECB.head()"
   ]
  },
  {
   "cell_type": "code",
   "execution_count": 248,
   "metadata": {},
   "outputs": [
    {
     "data": {
      "text/html": [
       "<div>\n",
       "<style scoped>\n",
       "    .dataframe tbody tr th:only-of-type {\n",
       "        vertical-align: middle;\n",
       "    }\n",
       "\n",
       "    .dataframe tbody tr th {\n",
       "        vertical-align: top;\n",
       "    }\n",
       "\n",
       "    .dataframe thead th {\n",
       "        text-align: right;\n",
       "    }\n",
       "</style>\n",
       "<table border=\"1\" class=\"dataframe\">\n",
       "  <thead>\n",
       "    <tr style=\"text-align: right;\">\n",
       "      <th></th>\n",
       "      <th>farm</th>\n",
       "      <th>trap_count</th>\n",
       "      <th>year</th>\n",
       "      <th>date</th>\n",
       "    </tr>\n",
       "    <tr>\n",
       "      <th>pest</th>\n",
       "      <th></th>\n",
       "      <th></th>\n",
       "      <th></th>\n",
       "      <th></th>\n",
       "    </tr>\n",
       "  </thead>\n",
       "  <tbody>\n",
       "    <tr>\n",
       "      <th>ECB</th>\n",
       "      <td>Hollis-JL-Pl</td>\n",
       "      <td>0</td>\n",
       "      <td>2018</td>\n",
       "      <td>20180924</td>\n",
       "    </tr>\n",
       "    <tr>\n",
       "      <th>ECB</th>\n",
       "      <td>Peterborough-R</td>\n",
       "      <td>0</td>\n",
       "      <td>2018</td>\n",
       "      <td>20180924</td>\n",
       "    </tr>\n",
       "    <tr>\n",
       "      <th>ECB</th>\n",
       "      <td>Mason-B</td>\n",
       "      <td>0</td>\n",
       "      <td>2018</td>\n",
       "      <td>20180924</td>\n",
       "    </tr>\n",
       "    <tr>\n",
       "      <th>ECB</th>\n",
       "      <td>NewIpswich-B</td>\n",
       "      <td>0</td>\n",
       "      <td>2018</td>\n",
       "      <td>20180924</td>\n",
       "    </tr>\n",
       "    <tr>\n",
       "      <th>ECB</th>\n",
       "      <td>Milford-M</td>\n",
       "      <td>0</td>\n",
       "      <td>2018</td>\n",
       "      <td>20180924</td>\n",
       "    </tr>\n",
       "  </tbody>\n",
       "</table>\n",
       "</div>"
      ],
      "text/plain": [
       "                farm  trap_count  year      date\n",
       "pest                                            \n",
       "ECB     Hollis-JL-Pl           0  2018  20180924\n",
       "ECB   Peterborough-R           0  2018  20180924\n",
       "ECB          Mason-B           0  2018  20180924\n",
       "ECB     NewIpswich-B           0  2018  20180924\n",
       "ECB        Milford-M           0  2018  20180924"
      ]
     },
     "execution_count": 248,
     "metadata": {},
     "output_type": "execute_result"
    }
   ],
   "source": [
    "df_ECB.tail()"
   ]
  },
  {
   "cell_type": "code",
   "execution_count": 249,
   "metadata": {
    "pycharm": {
     "name": "#%%\n"
    }
   },
   "outputs": [
    {
     "data": {
      "text/plain": [
       "(4979, 4)"
      ]
     },
     "execution_count": 249,
     "metadata": {},
     "output_type": "execute_result"
    }
   ],
   "source": [
    "df_ECB.shape"
   ]
  },
  {
   "cell_type": "code",
   "execution_count": 250,
   "metadata": {},
   "outputs": [
    {
     "name": "stdout",
     "output_type": "stream",
     "text": [
      "2006-06-19 00:00:00\n",
      "2018-10-15 00:00:00\n",
      "total weeeks  643\n"
     ]
    }
   ],
   "source": [
    "start_ecb_date = df_ECB['date'].values[0]\n",
    "search_ecb_STdate = convert_pandasDate(start_cew_date)\n",
    "\n",
    "end_ecb_date = df_ECB['date'].values[4979-1]\n",
    "search_ecb_ENDdate = convert_pandasDate(end_cew_date)\n",
    "\n",
    "df_ECB['date'] = df_ECB['date'].apply(convert_pandasDate)\n",
    "\n",
    "print(search_ecb_STdate)\n",
    "print(search_ecb_ENDdate)\n",
    "\n",
    "print(\"total weeeks \" , compute_weeks(search_ecb_STdate, search_ecb_ENDdate))"
   ]
  },
  {
   "cell_type": "code",
   "execution_count": 251,
   "metadata": {},
   "outputs": [],
   "source": [
    "df_ECB['date'] = pd.to_datetime(df_ECB['date'])"
   ]
  },
  {
   "cell_type": "markdown",
   "metadata": {
    "pycharm": {
     "name": "#%% md\n"
    }
   },
   "source": [
    "# Building dataframe for the pest FAW"
   ]
  },
  {
   "cell_type": "code",
   "execution_count": 252,
   "metadata": {},
   "outputs": [],
   "source": [
    "#dividing the dataframe based on each pests - pest FAW\n",
    "df_FAW = df.loc[['FAW'], ['farm', 'trap_count','year','date']]"
   ]
  },
  {
   "cell_type": "code",
   "execution_count": 253,
   "metadata": {},
   "outputs": [
    {
     "data": {
      "text/html": [
       "<div>\n",
       "<style scoped>\n",
       "    .dataframe tbody tr th:only-of-type {\n",
       "        vertical-align: middle;\n",
       "    }\n",
       "\n",
       "    .dataframe tbody tr th {\n",
       "        vertical-align: top;\n",
       "    }\n",
       "\n",
       "    .dataframe thead th {\n",
       "        text-align: right;\n",
       "    }\n",
       "</style>\n",
       "<table border=\"1\" class=\"dataframe\">\n",
       "  <thead>\n",
       "    <tr style=\"text-align: right;\">\n",
       "      <th></th>\n",
       "      <th>farm</th>\n",
       "      <th>trap_count</th>\n",
       "      <th>year</th>\n",
       "      <th>date</th>\n",
       "    </tr>\n",
       "    <tr>\n",
       "      <th>pest</th>\n",
       "      <th></th>\n",
       "      <th></th>\n",
       "      <th></th>\n",
       "      <th></th>\n",
       "    </tr>\n",
       "  </thead>\n",
       "  <tbody>\n",
       "    <tr>\n",
       "      <th>FAW</th>\n",
       "      <td>Pelham-G</td>\n",
       "      <td>0</td>\n",
       "      <td>2006</td>\n",
       "      <td>20060619</td>\n",
       "    </tr>\n",
       "    <tr>\n",
       "      <th>FAW</th>\n",
       "      <td>Litchfield-W</td>\n",
       "      <td>0</td>\n",
       "      <td>2006</td>\n",
       "      <td>20060619</td>\n",
       "    </tr>\n",
       "    <tr>\n",
       "      <th>FAW</th>\n",
       "      <td>Litchfield-M</td>\n",
       "      <td>0</td>\n",
       "      <td>2006</td>\n",
       "      <td>20060619</td>\n",
       "    </tr>\n",
       "    <tr>\n",
       "      <th>FAW</th>\n",
       "      <td>Merrimack-T</td>\n",
       "      <td>0</td>\n",
       "      <td>2006</td>\n",
       "      <td>20060619</td>\n",
       "    </tr>\n",
       "    <tr>\n",
       "      <th>FAW</th>\n",
       "      <td>Hollis-L</td>\n",
       "      <td>0</td>\n",
       "      <td>2006</td>\n",
       "      <td>20060619</td>\n",
       "    </tr>\n",
       "  </tbody>\n",
       "</table>\n",
       "</div>"
      ],
      "text/plain": [
       "              farm  trap_count  year      date\n",
       "pest                                          \n",
       "FAW       Pelham-G           0  2006  20060619\n",
       "FAW   Litchfield-W           0  2006  20060619\n",
       "FAW   Litchfield-M           0  2006  20060619\n",
       "FAW    Merrimack-T           0  2006  20060619\n",
       "FAW       Hollis-L           0  2006  20060619"
      ]
     },
     "execution_count": 253,
     "metadata": {},
     "output_type": "execute_result"
    }
   ],
   "source": [
    "df_FAW.head()"
   ]
  },
  {
   "cell_type": "code",
   "execution_count": 254,
   "metadata": {},
   "outputs": [
    {
     "data": {
      "text/html": [
       "<div>\n",
       "<style scoped>\n",
       "    .dataframe tbody tr th:only-of-type {\n",
       "        vertical-align: middle;\n",
       "    }\n",
       "\n",
       "    .dataframe tbody tr th {\n",
       "        vertical-align: top;\n",
       "    }\n",
       "\n",
       "    .dataframe thead th {\n",
       "        text-align: right;\n",
       "    }\n",
       "</style>\n",
       "<table border=\"1\" class=\"dataframe\">\n",
       "  <thead>\n",
       "    <tr style=\"text-align: right;\">\n",
       "      <th></th>\n",
       "      <th>farm</th>\n",
       "      <th>trap_count</th>\n",
       "      <th>year</th>\n",
       "      <th>date</th>\n",
       "    </tr>\n",
       "    <tr>\n",
       "      <th>pest</th>\n",
       "      <th></th>\n",
       "      <th></th>\n",
       "      <th></th>\n",
       "      <th></th>\n",
       "    </tr>\n",
       "  </thead>\n",
       "  <tbody>\n",
       "    <tr>\n",
       "      <th>FAW</th>\n",
       "      <td>Antrim-T</td>\n",
       "      <td>0</td>\n",
       "      <td>2018</td>\n",
       "      <td>20181001</td>\n",
       "    </tr>\n",
       "    <tr>\n",
       "      <th>FAW</th>\n",
       "      <td>Milford-M</td>\n",
       "      <td>0</td>\n",
       "      <td>2018</td>\n",
       "      <td>20181001</td>\n",
       "    </tr>\n",
       "    <tr>\n",
       "      <th>FAW</th>\n",
       "      <td>Hollis-B2</td>\n",
       "      <td>0</td>\n",
       "      <td>2018</td>\n",
       "      <td>20181008</td>\n",
       "    </tr>\n",
       "    <tr>\n",
       "      <th>FAW</th>\n",
       "      <td>Hollis-L</td>\n",
       "      <td>2</td>\n",
       "      <td>2018</td>\n",
       "      <td>20181008</td>\n",
       "    </tr>\n",
       "    <tr>\n",
       "      <th>FAW</th>\n",
       "      <td>Hollis-L</td>\n",
       "      <td>3</td>\n",
       "      <td>2018</td>\n",
       "      <td>20181015</td>\n",
       "    </tr>\n",
       "  </tbody>\n",
       "</table>\n",
       "</div>"
      ],
      "text/plain": [
       "           farm  trap_count  year      date\n",
       "pest                                       \n",
       "FAW    Antrim-T           0  2018  20181001\n",
       "FAW   Milford-M           0  2018  20181001\n",
       "FAW   Hollis-B2           0  2018  20181008\n",
       "FAW    Hollis-L           2  2018  20181008\n",
       "FAW    Hollis-L           3  2018  20181015"
      ]
     },
     "execution_count": 254,
     "metadata": {},
     "output_type": "execute_result"
    }
   ],
   "source": [
    "df_FAW.tail()"
   ]
  },
  {
   "cell_type": "code",
   "execution_count": 255,
   "metadata": {
    "pycharm": {
     "name": "#%%\n"
    }
   },
   "outputs": [
    {
     "data": {
      "text/plain": [
       "(3829, 4)"
      ]
     },
     "execution_count": 255,
     "metadata": {},
     "output_type": "execute_result"
    }
   ],
   "source": [
    "df_FAW.shape"
   ]
  },
  {
   "cell_type": "code",
   "execution_count": 256,
   "metadata": {},
   "outputs": [
    {
     "name": "stdout",
     "output_type": "stream",
     "text": [
      "2006-06-19 00:00:00\n",
      "2018-10-15 00:00:00\n",
      "total weeeks  643\n"
     ]
    }
   ],
   "source": [
    "start_faw_date = df_FAW['date'].values[0]\n",
    "search_faw_STdate = convert_pandasDate(start_cew_date)\n",
    "\n",
    "end_faw_date = df_FAW['date'].values[3829-1]\n",
    "search_faw_ENDdate = convert_pandasDate(end_cew_date)\n",
    "\n",
    "df_FAW['date'] = df_FAW['date'].apply(convert_pandasDate)\n",
    "\n",
    "print(search_faw_STdate)\n",
    "print(search_faw_ENDdate)\n",
    "\n",
    "print(\"total weeeks \" , compute_weeks(search_faw_STdate, search_faw_ENDdate))"
   ]
  },
  {
   "cell_type": "code",
   "execution_count": 257,
   "metadata": {},
   "outputs": [],
   "source": [
    "df_FAW['date'] = pd.to_datetime(df_FAW['date'])"
   ]
  },
  {
   "cell_type": "markdown",
   "metadata": {
    "pycharm": {
     "name": "#%% md\n"
    }
   },
   "source": [
    "# NOAA DATA"
   ]
  },
  {
   "cell_type": "code",
   "execution_count": 258,
   "metadata": {},
   "outputs": [
    {
     "name": "stderr",
     "output_type": "stream",
     "text": [
      "/anaconda3/lib/python3.6/site-packages/IPython/core/interactiveshell.py:2785: DtypeWarning: Columns (7,15,21,22,23) have mixed types. Specify dtype option on import or set low_memory=False.\n",
      "  interactivity=interactivity, compiler=compiler, result=result)\n"
     ]
    }
   ],
   "source": [
    "df_NOOA = pd.read_csv('DAW.csv', header=0)"
   ]
  },
  {
   "cell_type": "code",
   "execution_count": 259,
   "metadata": {},
   "outputs": [
    {
     "data": {
      "text/plain": [
       "(473979, 29)"
      ]
     },
     "execution_count": 259,
     "metadata": {},
     "output_type": "execute_result"
    }
   ],
   "source": [
    "df_NOOA.shape"
   ]
  },
  {
   "cell_type": "code",
   "execution_count": 260,
   "metadata": {},
   "outputs": [
    {
     "data": {
      "text/plain": [
       "Index(['station', 'valid', 'tmpf', 'dwpf', 'relh', 'drct', 'sknt', 'p01i',\n",
       "       'alti', 'mslp', 'vsby', 'gust', 'skyc1', 'skyc2', 'skyc3', 'skyc4',\n",
       "       'skyl1', 'skyl2', 'skyl3', 'skyl4', 'wxcodes', 'ice_accretion_1hr',\n",
       "       'ice_accretion_3hr', 'ice_accretion_6hr', 'peak_wind_gust',\n",
       "       'peak_wind_drct', 'peak_wind_time', 'feel', 'metar'],\n",
       "      dtype='object')"
      ]
     },
     "execution_count": 260,
     "metadata": {},
     "output_type": "execute_result"
    }
   ],
   "source": [
    "df_NOOA.columns"
   ]
  },
  {
   "cell_type": "code",
   "execution_count": 261,
   "metadata": {
    "pycharm": {
     "name": "#%%\n"
    }
   },
   "outputs": [
    {
     "data": {
      "text/html": [
       "<div>\n",
       "<style scoped>\n",
       "    .dataframe tbody tr th:only-of-type {\n",
       "        vertical-align: middle;\n",
       "    }\n",
       "\n",
       "    .dataframe tbody tr th {\n",
       "        vertical-align: top;\n",
       "    }\n",
       "\n",
       "    .dataframe thead th {\n",
       "        text-align: right;\n",
       "    }\n",
       "</style>\n",
       "<table border=\"1\" class=\"dataframe\">\n",
       "  <thead>\n",
       "    <tr style=\"text-align: right;\">\n",
       "      <th></th>\n",
       "      <th>tmpf</th>\n",
       "      <th>dwpf</th>\n",
       "      <th>drct</th>\n",
       "      <th>feel</th>\n",
       "      <th>valid</th>\n",
       "    </tr>\n",
       "  </thead>\n",
       "  <tbody>\n",
       "    <tr>\n",
       "      <th>0</th>\n",
       "      <td>24.80</td>\n",
       "      <td>10.40</td>\n",
       "      <td>60.0</td>\n",
       "      <td>20.46</td>\n",
       "      <td>1/1/06 0:38</td>\n",
       "    </tr>\n",
       "    <tr>\n",
       "      <th>1</th>\n",
       "      <td>24.08</td>\n",
       "      <td>10.04</td>\n",
       "      <td>80.0</td>\n",
       "      <td>19.63</td>\n",
       "      <td>1/1/06 0:51</td>\n",
       "    </tr>\n",
       "    <tr>\n",
       "      <th>2</th>\n",
       "      <td>21.92</td>\n",
       "      <td>15.98</td>\n",
       "      <td>20.0</td>\n",
       "      <td>13.39</td>\n",
       "      <td>1/1/06 1:51</td>\n",
       "    </tr>\n",
       "    <tr>\n",
       "      <th>3</th>\n",
       "      <td>21.20</td>\n",
       "      <td>17.60</td>\n",
       "      <td>30.0</td>\n",
       "      <td>11.61</td>\n",
       "      <td>1/1/06 2:15</td>\n",
       "    </tr>\n",
       "    <tr>\n",
       "      <th>4</th>\n",
       "      <td>21.92</td>\n",
       "      <td>17.06</td>\n",
       "      <td>30.0</td>\n",
       "      <td>13.39</td>\n",
       "      <td>1/1/06 2:51</td>\n",
       "    </tr>\n",
       "  </tbody>\n",
       "</table>\n",
       "</div>"
      ],
      "text/plain": [
       "    tmpf   dwpf  drct   feel        valid\n",
       "0  24.80  10.40  60.0  20.46  1/1/06 0:38\n",
       "1  24.08  10.04  80.0  19.63  1/1/06 0:51\n",
       "2  21.92  15.98  20.0  13.39  1/1/06 1:51\n",
       "3  21.20  17.60  30.0  11.61  1/1/06 2:15\n",
       "4  21.92  17.06  30.0  13.39  1/1/06 2:51"
      ]
     },
     "execution_count": 261,
     "metadata": {},
     "output_type": "execute_result"
    }
   ],
   "source": [
    "df_equation  = df_NOOA[['tmpf','dwpf', 'drct','feel', 'valid']]\n",
    "df_equation.head()"
   ]
  },
  {
   "cell_type": "code",
   "execution_count": 262,
   "metadata": {},
   "outputs": [
    {
     "name": "stderr",
     "output_type": "stream",
     "text": [
      "/anaconda3/lib/python3.6/site-packages/ipykernel_launcher.py:1: SettingWithCopyWarning: \n",
      "A value is trying to be set on a copy of a slice from a DataFrame.\n",
      "Try using .loc[row_indexer,col_indexer] = value instead\n",
      "\n",
      "See the caveats in the documentation: http://pandas.pydata.org/pandas-docs/stable/indexing.html#indexing-view-versus-copy\n",
      "  \"\"\"Entry point for launching an IPython kernel.\n"
     ]
    }
   ],
   "source": [
    "df_equation['valid'] = pd.to_datetime(df_equation['valid'])"
   ]
  },
  {
   "cell_type": "code",
   "execution_count": 263,
   "metadata": {},
   "outputs": [
    {
     "name": "stdout",
     "output_type": "stream",
     "text": [
      "2006-06-19 00:00:00\n",
      "2018-10-15 00:00:00\n"
     ]
    }
   ],
   "source": [
    "print(search_cew_STdate)\n",
    "print(search_cew_ENDdate)"
   ]
  },
  {
   "cell_type": "markdown",
   "metadata": {
    "pycharm": {
     "name": "#%% md\n"
    }
   },
   "source": [
    "# selecting weather dataframe within the date range - CEW Pest"
   ]
  },
  {
   "cell_type": "code",
   "execution_count": 264,
   "metadata": {},
   "outputs": [],
   "source": [
    "#selecting the dataframe within the range - CEW Pest\n",
    "#df_equation = df_equation.loc[(df_equation['valid'] >= search_st_date) & (df_equation['valid'] <= search_end_date), :]\n",
    "df_equation = df_equation.loc[(df_equation['valid'] >= search_cew_STdate) & (df_equation['valid'] <= search_cew_ENDdate), :]"
   ]
  },
  {
   "cell_type": "code",
   "execution_count": 265,
   "metadata": {},
   "outputs": [],
   "source": [
    "#need to get all the columns from here and sum up fro every week \n",
    "#select date and each column, and find the average for each column\n",
    "df_tempf = df_equation[['tmpf','dwpf', 'drct','feel','valid']]\n",
    "df_tempf[\"tmpf\"] = df_tempf[\"tmpf\"].fillna(0)\n",
    "df_tempf[\"dwpf\"] = df_tempf[\"dwpf\"].fillna(0)\n",
    "df_tempf[\"drct\"] = df_tempf[\"drct\"].fillna(0)\n",
    "df_tempf[\"feel\"] = df_tempf[\"feel\"].fillna(0)"
   ]
  },
  {
   "cell_type": "code",
   "execution_count": 266,
   "metadata": {},
   "outputs": [
    {
     "data": {
      "text/html": [
       "<div>\n",
       "<style scoped>\n",
       "    .dataframe tbody tr th:only-of-type {\n",
       "        vertical-align: middle;\n",
       "    }\n",
       "\n",
       "    .dataframe tbody tr th {\n",
       "        vertical-align: top;\n",
       "    }\n",
       "\n",
       "    .dataframe thead th {\n",
       "        text-align: right;\n",
       "    }\n",
       "</style>\n",
       "<table border=\"1\" class=\"dataframe\">\n",
       "  <thead>\n",
       "    <tr style=\"text-align: right;\">\n",
       "      <th></th>\n",
       "      <th>tmpf</th>\n",
       "      <th>dwpf</th>\n",
       "      <th>drct</th>\n",
       "      <th>feel</th>\n",
       "      <th>valid</th>\n",
       "    </tr>\n",
       "  </thead>\n",
       "  <tbody>\n",
       "    <tr>\n",
       "      <th>341757</th>\n",
       "      <td>0.0</td>\n",
       "      <td>0.0</td>\n",
       "      <td>0.0</td>\n",
       "      <td>0.0</td>\n",
       "      <td>2018-10-14 23:35:00</td>\n",
       "    </tr>\n",
       "    <tr>\n",
       "      <th>341758</th>\n",
       "      <td>0.0</td>\n",
       "      <td>0.0</td>\n",
       "      <td>190.0</td>\n",
       "      <td>0.0</td>\n",
       "      <td>2018-10-14 23:40:00</td>\n",
       "    </tr>\n",
       "    <tr>\n",
       "      <th>341759</th>\n",
       "      <td>0.0</td>\n",
       "      <td>0.0</td>\n",
       "      <td>0.0</td>\n",
       "      <td>0.0</td>\n",
       "      <td>2018-10-14 23:50:00</td>\n",
       "    </tr>\n",
       "    <tr>\n",
       "      <th>341760</th>\n",
       "      <td>46.0</td>\n",
       "      <td>39.9</td>\n",
       "      <td>0.0</td>\n",
       "      <td>46.0</td>\n",
       "      <td>2018-10-14 23:51:00</td>\n",
       "    </tr>\n",
       "    <tr>\n",
       "      <th>341761</th>\n",
       "      <td>0.0</td>\n",
       "      <td>0.0</td>\n",
       "      <td>0.0</td>\n",
       "      <td>0.0</td>\n",
       "      <td>2018-10-14 23:55:00</td>\n",
       "    </tr>\n",
       "  </tbody>\n",
       "</table>\n",
       "</div>"
      ],
      "text/plain": [
       "        tmpf  dwpf   drct  feel               valid\n",
       "341757   0.0   0.0    0.0   0.0 2018-10-14 23:35:00\n",
       "341758   0.0   0.0  190.0   0.0 2018-10-14 23:40:00\n",
       "341759   0.0   0.0    0.0   0.0 2018-10-14 23:50:00\n",
       "341760  46.0  39.9    0.0  46.0 2018-10-14 23:51:00\n",
       "341761   0.0   0.0    0.0   0.0 2018-10-14 23:55:00"
      ]
     },
     "execution_count": 266,
     "metadata": {},
     "output_type": "execute_result"
    }
   ],
   "source": [
    "df_tempf.tail()"
   ]
  },
  {
   "cell_type": "code",
   "execution_count": 267,
   "metadata": {},
   "outputs": [],
   "source": [
    "#df_tempf"
   ]
  },
  {
   "cell_type": "code",
   "execution_count": 268,
   "metadata": {},
   "outputs": [],
   "source": [
    "from datetime import date\n",
    "\n",
    "def getweekly_temperature(df_tempf,CEW_weather_data_dic):\n",
    "    \n",
    "    week_counts = 0\n",
    "    \n",
    "    count = 0\n",
    "    temp_index = 0\n",
    "     \n",
    "    count_day0 = 0\n",
    "    count_day1 = 0\n",
    "    count_day2 = 0\n",
    "    count_day3 = 0\n",
    "    count_day4 = 0\n",
    "    count_day5 = 0\n",
    "    count_day6= 0\n",
    "    totaldays = 0\n",
    "    \n",
    "    temperature = 0\n",
    "    dewTemp = 0\n",
    "    winDir = 0\n",
    "    feelTemp = 0\n",
    "    \n",
    "    #empt sets for all the values\n",
    "    lst_tempf = []\n",
    "    lst_dwpf = []\n",
    "    lst_drct = []\n",
    "    lst_feel = []\n",
    "    lst_date = []\n",
    "    \n",
    "    for i , j in df_tempf.iterrows():\n",
    "        \n",
    "        if count ==0:\n",
    "            row = (i,j)\n",
    "            #print(row[1][1])\n",
    "            #initial_date = row[1][1]\n",
    "            initial_date = row[1][4]\n",
    "            f_yyyy = str(initial_date)[0:4]\n",
    "            f_mm = str(initial_date)[5:7]\n",
    "            f_dd = str(initial_date)[8:10]\n",
    "            f_date = date(int(f_yyyy),int(f_mm),int(f_dd))\n",
    "            \n",
    "        row_data = (i,j)\n",
    "        #print(row_data)\n",
    "        #summing up the temperature\n",
    "        #temperature = row_data[1][0]\n",
    "        temperature = temperature + row_data[1][0]\n",
    "        dewTemp = dewTemp + row_data[1][1]\n",
    "        winDir = winDir + row_data[1][2]\n",
    "        feelTemp = feelTemp + row_data[1][3]\n",
    "        \n",
    "        #last_date = row_data[1][1]\n",
    "        last_date = row_data[1][4]\n",
    "        l_yyyy = str(last_date)[0:4]\n",
    "        l_mm = str(last_date)[5:7]\n",
    "        l_dd = str(last_date)[8:10]\n",
    "        l_date = date(int(l_yyyy),int(l_mm),int(l_dd))\n",
    "            \n",
    "        #change in date \n",
    "        delta = l_date - f_date\n",
    "        #print (delta.days)\n",
    "        if delta.days%7 == 0:\n",
    "            week_counts = week_counts + 1\n",
    "        \n",
    "        if delta.days == 0:\n",
    "            count_day0 = count_day0 + 1\n",
    "        elif delta.days == 1:\n",
    "            count_day1 = count_day1 + 1\n",
    "        elif delta.days == 2:\n",
    "            count_day2 = count_day2 + 1\n",
    "        elif delta.days == 3:\n",
    "            count_day3 = count_day3 + 1\n",
    "        elif delta.days == 4:\n",
    "            count_day4 = count_day4 + 1\n",
    "        elif delta.days == 5:\n",
    "            count_day5 = count_day5 + 1\n",
    "        elif delta.days == 6:\n",
    "            count_day6 = count_day6 + 1       \n",
    "        #elif delta.days == 7:\n",
    "        else:\n",
    "            #compute average temperature\n",
    "            totaldays = count_day0 + count_day1 + count_day2 + count_day3 + count_day4 + count_day5 + count_day6\n",
    "            \n",
    "            avg_Temp = temperature/totaldays\n",
    "            avg_dewTemp = dewTemp/totaldays\n",
    "            avg_winDir = winDir/totaldays\n",
    "            avg_feelTemp = feelTemp/totaldays\n",
    "            \n",
    "            #appending values to the list\n",
    "            lst_tempf.append(avg_Temp)\n",
    "            lst_dwpf.append(avg_dewTemp)\n",
    "            lst_drct.append(avg_winDir)\n",
    "            lst_feel.append(avg_feelTemp) \n",
    "    \n",
    "            lst_date.append(f_date)\n",
    "            #print(f_date)\n",
    "            \n",
    "            #get the start date \n",
    "            #put all into the date frame \n",
    "            \n",
    "            temp_index = temp_index + 1\n",
    "            \n",
    "            #flush the date \n",
    "            f_date = l_date\n",
    "            \n",
    "            #flush days count \n",
    "            count_day0 = 0\n",
    "            count_day1 = 0\n",
    "            count_day2 = 0\n",
    "            count_day3 = 0 \n",
    "            count_day4 = 0 \n",
    "            count_day5 = 0\n",
    "            count_day6 = 0\n",
    "            \n",
    "            #flushing all the records ---- temperature\n",
    "            temperature = 0\n",
    "            dewTemp = 0\n",
    "            winDir = 0\n",
    "            feelTemp = 0\n",
    "            \n",
    "        #initialize the repetation\n",
    "        count = count + 1\n",
    "        \n",
    "    print(\"total temperature index \", temp_index)\n",
    "    print(\"total weeks: \", week_counts)\n",
    "    \n",
    "    #assigning list to the dictonary\n",
    "    CEW_weather_data_dic['tempf'] = lst_tempf\n",
    "    CEW_weather_data_dic['dwpf'] = lst_dwpf\n",
    "    CEW_weather_data_dic['drct'] = lst_drct\n",
    "    CEW_weather_data_dic['feel'] = lst_feel\n",
    "    CEW_weather_data_dic['date'] = lst_date\n",
    "    \n",
    "    #return CEW_weather_data_dic\n",
    "    #print(df_tempf)"
   ]
  },
  {
   "cell_type": "code",
   "execution_count": 269,
   "metadata": {},
   "outputs": [
    {
     "name": "stdout",
     "output_type": "stream",
     "text": [
      "total temperature index  642\n",
      "total weeks:  47922\n"
     ]
    }
   ],
   "source": [
    "#calling getweekly_temperature\n",
    "CEW_weather_data_dic = {}\n",
    "getweekly_temperature(df_tempf,CEW_weather_data_dic)"
   ]
  },
  {
   "cell_type": "code",
   "execution_count": 270,
   "metadata": {},
   "outputs": [],
   "source": [
    "#creating data frame needed for equation\n",
    "#print(CEW_weather_data_dic)\n",
    "df_CEW_weather = pd.DataFrame(CEW_weather_data_dic)"
   ]
  },
  {
   "cell_type": "code",
   "execution_count": 271,
   "metadata": {},
   "outputs": [
    {
     "data": {
      "text/html": [
       "<div>\n",
       "<style scoped>\n",
       "    .dataframe tbody tr th:only-of-type {\n",
       "        vertical-align: middle;\n",
       "    }\n",
       "\n",
       "    .dataframe tbody tr th {\n",
       "        vertical-align: top;\n",
       "    }\n",
       "\n",
       "    .dataframe thead th {\n",
       "        text-align: right;\n",
       "    }\n",
       "</style>\n",
       "<table border=\"1\" class=\"dataframe\">\n",
       "  <thead>\n",
       "    <tr style=\"text-align: right;\">\n",
       "      <th></th>\n",
       "      <th>tempf</th>\n",
       "      <th>dwpf</th>\n",
       "      <th>drct</th>\n",
       "      <th>feel</th>\n",
       "      <th>date</th>\n",
       "    </tr>\n",
       "  </thead>\n",
       "  <tbody>\n",
       "    <tr>\n",
       "      <th>0</th>\n",
       "      <td>70.977613</td>\n",
       "      <td>63.913169</td>\n",
       "      <td>63.703704</td>\n",
       "      <td>71.301399</td>\n",
       "      <td>2006-06-19</td>\n",
       "    </tr>\n",
       "    <tr>\n",
       "      <th>1</th>\n",
       "      <td>71.243468</td>\n",
       "      <td>65.095887</td>\n",
       "      <td>84.233871</td>\n",
       "      <td>71.733347</td>\n",
       "      <td>2006-06-26</td>\n",
       "    </tr>\n",
       "    <tr>\n",
       "      <th>2</th>\n",
       "      <td>71.056485</td>\n",
       "      <td>59.203758</td>\n",
       "      <td>127.515152</td>\n",
       "      <td>71.263273</td>\n",
       "      <td>2006-07-03</td>\n",
       "    </tr>\n",
       "    <tr>\n",
       "      <th>3</th>\n",
       "      <td>71.830909</td>\n",
       "      <td>66.491782</td>\n",
       "      <td>59.745455</td>\n",
       "      <td>72.608255</td>\n",
       "      <td>2006-07-10</td>\n",
       "    </tr>\n",
       "    <tr>\n",
       "      <th>4</th>\n",
       "      <td>73.200175</td>\n",
       "      <td>66.515808</td>\n",
       "      <td>101.004367</td>\n",
       "      <td>74.150786</td>\n",
       "      <td>2006-07-17</td>\n",
       "    </tr>\n",
       "  </tbody>\n",
       "</table>\n",
       "</div>"
      ],
      "text/plain": [
       "       tempf       dwpf        drct       feel        date\n",
       "0  70.977613  63.913169   63.703704  71.301399  2006-06-19\n",
       "1  71.243468  65.095887   84.233871  71.733347  2006-06-26\n",
       "2  71.056485  59.203758  127.515152  71.263273  2006-07-03\n",
       "3  71.830909  66.491782   59.745455  72.608255  2006-07-10\n",
       "4  73.200175  66.515808  101.004367  74.150786  2006-07-17"
      ]
     },
     "execution_count": 271,
     "metadata": {},
     "output_type": "execute_result"
    }
   ],
   "source": [
    "df_CEW_weather.head()"
   ]
  },
  {
   "cell_type": "code",
   "execution_count": 272,
   "metadata": {},
   "outputs": [
    {
     "data": {
      "text/html": [
       "<div>\n",
       "<style scoped>\n",
       "    .dataframe tbody tr th:only-of-type {\n",
       "        vertical-align: middle;\n",
       "    }\n",
       "\n",
       "    .dataframe tbody tr th {\n",
       "        vertical-align: top;\n",
       "    }\n",
       "\n",
       "    .dataframe thead th {\n",
       "        text-align: right;\n",
       "    }\n",
       "</style>\n",
       "<table border=\"1\" class=\"dataframe\">\n",
       "  <thead>\n",
       "    <tr style=\"text-align: right;\">\n",
       "      <th></th>\n",
       "      <th>tempf</th>\n",
       "      <th>dwpf</th>\n",
       "      <th>drct</th>\n",
       "      <th>feel</th>\n",
       "      <th>date</th>\n",
       "    </tr>\n",
       "  </thead>\n",
       "  <tbody>\n",
       "    <tr>\n",
       "      <th>637</th>\n",
       "      <td>6.936188</td>\n",
       "      <td>6.288330</td>\n",
       "      <td>156.129550</td>\n",
       "      <td>6.983009</td>\n",
       "      <td>2018-09-03</td>\n",
       "    </tr>\n",
       "    <tr>\n",
       "      <th>638</th>\n",
       "      <td>9.211018</td>\n",
       "      <td>8.905188</td>\n",
       "      <td>113.670949</td>\n",
       "      <td>9.217243</td>\n",
       "      <td>2018-09-10</td>\n",
       "    </tr>\n",
       "    <tr>\n",
       "      <th>639</th>\n",
       "      <td>7.760753</td>\n",
       "      <td>7.281021</td>\n",
       "      <td>110.056730</td>\n",
       "      <td>7.728195</td>\n",
       "      <td>2018-09-17</td>\n",
       "    </tr>\n",
       "    <tr>\n",
       "      <th>640</th>\n",
       "      <td>6.692446</td>\n",
       "      <td>6.180576</td>\n",
       "      <td>161.330935</td>\n",
       "      <td>6.548972</td>\n",
       "      <td>2018-09-24</td>\n",
       "    </tr>\n",
       "    <tr>\n",
       "      <th>641</th>\n",
       "      <td>7.799536</td>\n",
       "      <td>7.509856</td>\n",
       "      <td>134.674923</td>\n",
       "      <td>7.750764</td>\n",
       "      <td>2018-10-01</td>\n",
       "    </tr>\n",
       "  </tbody>\n",
       "</table>\n",
       "</div>"
      ],
      "text/plain": [
       "        tempf      dwpf        drct      feel        date\n",
       "637  6.936188  6.288330  156.129550  6.983009  2018-09-03\n",
       "638  9.211018  8.905188  113.670949  9.217243  2018-09-10\n",
       "639  7.760753  7.281021  110.056730  7.728195  2018-09-17\n",
       "640  6.692446  6.180576  161.330935  6.548972  2018-09-24\n",
       "641  7.799536  7.509856  134.674923  7.750764  2018-10-01"
      ]
     },
     "execution_count": 272,
     "metadata": {},
     "output_type": "execute_result"
    }
   ],
   "source": [
    "df_CEW_weather.tail()"
   ]
  },
  {
   "cell_type": "code",
   "execution_count": 273,
   "metadata": {},
   "outputs": [],
   "source": [
    "df_CEW['date'] = df_CEW['date'].dt.date"
   ]
  },
  {
   "cell_type": "code",
   "execution_count": 274,
   "metadata": {
    "pycharm": {
     "name": "#%%\n"
    }
   },
   "outputs": [],
   "source": [
    "df_CEW_weather['date'] = pd.to_datetime(df_CEW_weather['date'])"
   ]
  },
  {
   "cell_type": "code",
   "execution_count": 275,
   "metadata": {},
   "outputs": [],
   "source": [
    "df_CEW_weather['date'] = df_CEW_weather['date'].dt.date"
   ]
  },
  {
   "cell_type": "code",
   "execution_count": 276,
   "metadata": {},
   "outputs": [],
   "source": [
    "df_CEW_final = df_CEW.merge(df_CEW_weather, on='date')"
   ]
  },
  {
   "cell_type": "markdown",
   "metadata": {
    "pycharm": {
     "name": "#%% md\n"
    }
   },
   "source": [
    "# predicted tarp counts :::: CEW pests"
   ]
  },
  {
   "cell_type": "code",
   "execution_count": 288,
   "metadata": {},
   "outputs": [
    {
     "data": {
      "text/plain": [
       "Index(['farm', 'trap_count', 'year', 'date', 'tempf', 'dwpf', 'drct', 'feel'], dtype='object')"
      ]
     },
     "execution_count": 288,
     "metadata": {},
     "output_type": "execute_result"
    }
   ],
   "source": [
    "df_CEW_final.columns"
   ]
  },
  {
   "cell_type": "code",
   "execution_count": 292,
   "metadata": {},
   "outputs": [
    {
     "name": "stdout",
     "output_type": "stream",
     "text": [
      "Intercept:  8.848344854621619\n",
      "Coeffecients  [-0.71959129  0.03611909  0.02071853  0.68803956]\n",
      "(515,)\n",
      "----------- Linear Regression Evaluations------------\n",
      "Mean Absolute Error (MAE):  14.705005947180688\n",
      "Mean Squared Eror (MSE):  860.9897652483703\n",
      "Root Mean Squared Eror (RMSE):  29.342627102022924\n"
     ]
    },
    {
     "data": {
      "image/png": "[encoded data removed]",
      "text/plain": [
       "<Figure size 432x288 with 1 Axes>"
      ]
     },
     "metadata": {},
     "output_type": "display_data"
    }
   ],
   "source": [
    "df_CEW_final = Multiple_Linear_Regression(df_CEW_final)"
   ]
  },
  {
   "cell_type": "code",
   "execution_count": 293,
   "metadata": {},
   "outputs": [
    {
     "data": {
      "text/html": [
       "<div>\n",
       "<style scoped>\n",
       "    .dataframe tbody tr th:only-of-type {\n",
       "        vertical-align: middle;\n",
       "    }\n",
       "\n",
       "    .dataframe tbody tr th {\n",
       "        vertical-align: top;\n",
       "    }\n",
       "\n",
       "    .dataframe thead th {\n",
       "        text-align: right;\n",
       "    }\n",
       "</style>\n",
       "<table border=\"1\" class=\"dataframe\">\n",
       "  <thead>\n",
       "    <tr style=\"text-align: right;\">\n",
       "      <th></th>\n",
       "      <th>farm</th>\n",
       "      <th>trap_count</th>\n",
       "      <th>year</th>\n",
       "      <th>date</th>\n",
       "      <th>tempf</th>\n",
       "      <th>dwpf</th>\n",
       "      <th>drct</th>\n",
       "      <th>feel</th>\n",
       "      <th>regression_count</th>\n",
       "    </tr>\n",
       "  </thead>\n",
       "  <tbody>\n",
       "    <tr>\n",
       "      <th>0</th>\n",
       "      <td>Pelham-G</td>\n",
       "      <td>0</td>\n",
       "      <td>2006</td>\n",
       "      <td>2006-06-19</td>\n",
       "      <td>70.977613</td>\n",
       "      <td>63.913169</td>\n",
       "      <td>63.703704</td>\n",
       "      <td>71.301399</td>\n",
       "      <td>10.459989</td>\n",
       "    </tr>\n",
       "    <tr>\n",
       "      <th>1</th>\n",
       "      <td>Litchfield-W</td>\n",
       "      <td>0</td>\n",
       "      <td>2006</td>\n",
       "      <td>2006-06-19</td>\n",
       "      <td>70.977613</td>\n",
       "      <td>63.913169</td>\n",
       "      <td>63.703704</td>\n",
       "      <td>71.301399</td>\n",
       "      <td>10.459989</td>\n",
       "    </tr>\n",
       "    <tr>\n",
       "      <th>2</th>\n",
       "      <td>Litchfield-M</td>\n",
       "      <td>0</td>\n",
       "      <td>2006</td>\n",
       "      <td>2006-06-19</td>\n",
       "      <td>70.977613</td>\n",
       "      <td>63.913169</td>\n",
       "      <td>63.703704</td>\n",
       "      <td>71.301399</td>\n",
       "      <td>10.459989</td>\n",
       "    </tr>\n",
       "    <tr>\n",
       "      <th>3</th>\n",
       "      <td>Merrimack-T</td>\n",
       "      <td>0</td>\n",
       "      <td>2006</td>\n",
       "      <td>2006-06-19</td>\n",
       "      <td>70.977613</td>\n",
       "      <td>63.913169</td>\n",
       "      <td>63.703704</td>\n",
       "      <td>71.301399</td>\n",
       "      <td>10.459989</td>\n",
       "    </tr>\n",
       "    <tr>\n",
       "      <th>4</th>\n",
       "      <td>Hollis-L</td>\n",
       "      <td>1</td>\n",
       "      <td>2006</td>\n",
       "      <td>2006-06-19</td>\n",
       "      <td>70.977613</td>\n",
       "      <td>63.913169</td>\n",
       "      <td>63.703704</td>\n",
       "      <td>71.301399</td>\n",
       "      <td>10.459989</td>\n",
       "    </tr>\n",
       "  </tbody>\n",
       "</table>\n",
       "</div>"
      ],
      "text/plain": [
       "           farm  trap_count  year        date      tempf       dwpf  \\\n",
       "0      Pelham-G           0  2006  2006-06-19  70.977613  63.913169   \n",
       "1  Litchfield-W           0  2006  2006-06-19  70.977613  63.913169   \n",
       "2  Litchfield-M           0  2006  2006-06-19  70.977613  63.913169   \n",
       "3   Merrimack-T           0  2006  2006-06-19  70.977613  63.913169   \n",
       "4      Hollis-L           1  2006  2006-06-19  70.977613  63.913169   \n",
       "\n",
       "        drct       feel  regression_count  \n",
       "0  63.703704  71.301399         10.459989  \n",
       "1  63.703704  71.301399         10.459989  \n",
       "2  63.703704  71.301399         10.459989  \n",
       "3  63.703704  71.301399         10.459989  \n",
       "4  63.703704  71.301399         10.459989  "
      ]
     },
     "execution_count": 293,
     "metadata": {},
     "output_type": "execute_result"
    }
   ],
   "source": [
    "df_CEW_final.head()"
   ]
  },
  {
   "cell_type": "code",
   "execution_count": 294,
   "metadata": {},
   "outputs": [],
   "source": [
    "#creating training and testign dataset \n",
    "mask = np.random.rand(len(df_CEW_final)) < 0.8\n",
    "df_train_CEW = df_CEW_final[mask]\n",
    "df_test_CEW = df_CEW_final[~mask]"
   ]
  },
  {
   "cell_type": "code",
   "execution_count": 295,
   "metadata": {},
   "outputs": [
    {
     "data": {
      "text/html": [
       "<div>\n",
       "<style scoped>\n",
       "    .dataframe tbody tr th:only-of-type {\n",
       "        vertical-align: middle;\n",
       "    }\n",
       "\n",
       "    .dataframe tbody tr th {\n",
       "        vertical-align: top;\n",
       "    }\n",
       "\n",
       "    .dataframe thead th {\n",
       "        text-align: right;\n",
       "    }\n",
       "</style>\n",
       "<table border=\"1\" class=\"dataframe\">\n",
       "  <thead>\n",
       "    <tr style=\"text-align: right;\">\n",
       "      <th></th>\n",
       "      <th>farm</th>\n",
       "      <th>trap_count</th>\n",
       "      <th>year</th>\n",
       "      <th>date</th>\n",
       "      <th>tempf</th>\n",
       "      <th>dwpf</th>\n",
       "      <th>drct</th>\n",
       "      <th>feel</th>\n",
       "      <th>regression_count</th>\n",
       "    </tr>\n",
       "  </thead>\n",
       "  <tbody>\n",
       "    <tr>\n",
       "      <th>0</th>\n",
       "      <td>Pelham-G</td>\n",
       "      <td>0</td>\n",
       "      <td>2006</td>\n",
       "      <td>2006-06-19</td>\n",
       "      <td>70.977613</td>\n",
       "      <td>63.913169</td>\n",
       "      <td>63.703704</td>\n",
       "      <td>71.301399</td>\n",
       "      <td>10.459989</td>\n",
       "    </tr>\n",
       "    <tr>\n",
       "      <th>1</th>\n",
       "      <td>Litchfield-W</td>\n",
       "      <td>0</td>\n",
       "      <td>2006</td>\n",
       "      <td>2006-06-19</td>\n",
       "      <td>70.977613</td>\n",
       "      <td>63.913169</td>\n",
       "      <td>63.703704</td>\n",
       "      <td>71.301399</td>\n",
       "      <td>10.459989</td>\n",
       "    </tr>\n",
       "    <tr>\n",
       "      <th>2</th>\n",
       "      <td>Litchfield-M</td>\n",
       "      <td>0</td>\n",
       "      <td>2006</td>\n",
       "      <td>2006-06-19</td>\n",
       "      <td>70.977613</td>\n",
       "      <td>63.913169</td>\n",
       "      <td>63.703704</td>\n",
       "      <td>71.301399</td>\n",
       "      <td>10.459989</td>\n",
       "    </tr>\n",
       "    <tr>\n",
       "      <th>3</th>\n",
       "      <td>Merrimack-T</td>\n",
       "      <td>0</td>\n",
       "      <td>2006</td>\n",
       "      <td>2006-06-19</td>\n",
       "      <td>70.977613</td>\n",
       "      <td>63.913169</td>\n",
       "      <td>63.703704</td>\n",
       "      <td>71.301399</td>\n",
       "      <td>10.459989</td>\n",
       "    </tr>\n",
       "    <tr>\n",
       "      <th>4</th>\n",
       "      <td>Hollis-L</td>\n",
       "      <td>1</td>\n",
       "      <td>2006</td>\n",
       "      <td>2006-06-19</td>\n",
       "      <td>70.977613</td>\n",
       "      <td>63.913169</td>\n",
       "      <td>63.703704</td>\n",
       "      <td>71.301399</td>\n",
       "      <td>10.459989</td>\n",
       "    </tr>\n",
       "  </tbody>\n",
       "</table>\n",
       "</div>"
      ],
      "text/plain": [
       "           farm  trap_count  year        date      tempf       dwpf  \\\n",
       "0      Pelham-G           0  2006  2006-06-19  70.977613  63.913169   \n",
       "1  Litchfield-W           0  2006  2006-06-19  70.977613  63.913169   \n",
       "2  Litchfield-M           0  2006  2006-06-19  70.977613  63.913169   \n",
       "3   Merrimack-T           0  2006  2006-06-19  70.977613  63.913169   \n",
       "4      Hollis-L           1  2006  2006-06-19  70.977613  63.913169   \n",
       "\n",
       "        drct       feel  regression_count  \n",
       "0  63.703704  71.301399         10.459989  \n",
       "1  63.703704  71.301399         10.459989  \n",
       "2  63.703704  71.301399         10.459989  \n",
       "3  63.703704  71.301399         10.459989  \n",
       "4  63.703704  71.301399         10.459989  "
      ]
     },
     "execution_count": 295,
     "metadata": {},
     "output_type": "execute_result"
    }
   ],
   "source": [
    "df_train_CEW.head()"
   ]
  },
  {
   "cell_type": "code",
   "execution_count": 296,
   "metadata": {},
   "outputs": [
    {
     "name": "stdout",
     "output_type": "stream",
     "text": [
      "2079\n",
      "492\n"
     ]
    }
   ],
   "source": [
    "print(len(df_train_CEW))\n",
    "print(len(df_test_CEW))"
   ]
  },
  {
   "cell_type": "code",
   "execution_count": 297,
   "metadata": {},
   "outputs": [],
   "source": [
    "expr_CEW = \"\"\"trap_count ~ tempf + dwpf + drct + feel\"\"\""
   ]
  },
  {
   "cell_type": "code",
   "execution_count": 298,
   "metadata": {},
   "outputs": [],
   "source": [
    "#Set up the X and y matrices\n",
    "y_train, X_train = dmatrices(expr_CEW, df_CEW_final, return_type='dataframe')\n",
    "y_test, X_test = dmatrices(expr_CEW, df_CEW_final, return_type='dataframe')\n",
    "\n",
    "#y_train, X_train = dmatrices(expr_CEW, df_train_CEW, return_type='dataframe')\n",
    "#y_test, X_test = dmatrices(expr_CEW, df_test_CEW, return_type='dataframe')"
   ]
  },
  {
   "cell_type": "code",
   "execution_count": 299,
   "metadata": {},
   "outputs": [],
   "source": [
    "#X_test"
   ]
  },
  {
   "cell_type": "code",
   "execution_count": 300,
   "metadata": {},
   "outputs": [],
   "source": [
    "#y_test"
   ]
  },
  {
   "cell_type": "code",
   "execution_count": 301,
   "metadata": {},
   "outputs": [],
   "source": [
    "#Using the statsmodels GLM class, train the Poisson regression model on the training data set.\n",
    "poisson_training_results = sm.GLM(y_train, X_train, family=sm.families.Poisson()).fit()"
   ]
  },
  {
   "cell_type": "code",
   "execution_count": 302,
   "metadata": {},
   "outputs": [
    {
     "name": "stdout",
     "output_type": "stream",
     "text": [
      "                 Generalized Linear Model Regression Results                  \n",
      "==============================================================================\n",
      "Dep. Variable:             trap_count   No. Observations:                 2571\n",
      "Model:                            GLM   Df Residuals:                     2566\n",
      "Model Family:                 Poisson   Df Model:                            4\n",
      "Link Function:                    log   Scale:                          1.0000\n",
      "Method:                          IRLS   Log-Likelihood:                -41041.\n",
      "Date:                Tue, 05 May 2020   Deviance:                       75750.\n",
      "Time:                        00:11:22   Pearson chi2:                 1.55e+05\n",
      "No. Iterations:                     6   Covariance Type:             nonrobust\n",
      "==============================================================================\n",
      "                 coef    std err          z      P>|z|      [0.025      0.975]\n",
      "------------------------------------------------------------------------------\n",
      "Intercept      2.2900      0.042     54.923      0.000       2.208       2.372\n",
      "tempf         -0.0907      0.008    -12.012      0.000      -0.106      -0.076\n",
      "dwpf          -0.0165      0.003     -6.496      0.000      -0.021      -0.012\n",
      "drct           0.0014      0.000      5.331      0.000       0.001       0.002\n",
      "feel           0.1047      0.007     14.292      0.000       0.090       0.119\n",
      "==============================================================================\n"
     ]
    }
   ],
   "source": [
    "print(poisson_training_results.summary())"
   ]
  },
  {
   "cell_type": "code",
   "execution_count": 303,
   "metadata": {},
   "outputs": [],
   "source": [
    "#Make some predictions on the test data set.\n",
    "poisson_predictions = poisson_training_results.get_prediction(X_test)"
   ]
  },
  {
   "cell_type": "code",
   "execution_count": 304,
   "metadata": {},
   "outputs": [
    {
     "name": "stdout",
     "output_type": "stream",
     "text": [
      "           mean   mean_se  mean_ci_lower  mean_ci_upper\n",
      "0     10.502287  0.121299      10.267216      10.742741\n",
      "1     10.502287  0.121299      10.267216      10.742741\n",
      "2     10.502287  0.121299      10.267216      10.742741\n",
      "3     10.502287  0.121299      10.267216      10.742741\n",
      "4     10.502287  0.121299      10.267216      10.742741\n",
      "5     10.502287  0.121299      10.267216      10.742741\n",
      "6     10.502287  0.121299      10.267216      10.742741\n",
      "7     10.502287  0.121299      10.267216      10.742741\n",
      "8     10.502287  0.121299      10.267216      10.742741\n",
      "9     10.502287  0.121299      10.267216      10.742741\n",
      "10    10.502287  0.121299      10.267216      10.742741\n",
      "11    10.824663  0.103944      10.622843      11.030318\n",
      "12    10.824663  0.103944      10.622843      11.030318\n",
      "13    10.824663  0.103944      10.622843      11.030318\n",
      "14    10.824663  0.103944      10.622843      11.030318\n",
      "15    10.824663  0.103944      10.622843      11.030318\n",
      "16    10.824663  0.103944      10.622843      11.030318\n",
      "17    10.824663  0.103944      10.622843      11.030318\n",
      "18    10.824663  0.103944      10.622843      11.030318\n",
      "19    10.824663  0.103944      10.622843      11.030318\n",
      "20    10.824663  0.103944      10.622843      11.030318\n",
      "21    10.824663  0.103944      10.622843      11.030318\n",
      "22    12.268939  0.116009      12.043660      12.498433\n",
      "23    12.268939  0.116009      12.043660      12.498433\n",
      "24    12.268939  0.116009      12.043660      12.498433\n",
      "25    12.268939  0.116009      12.043660      12.498433\n",
      "26    12.268939  0.116009      12.043660      12.498433\n",
      "27    12.268939  0.116009      12.043660      12.498433\n",
      "28    12.268939  0.116009      12.043660      12.498433\n",
      "29    12.268939  0.116009      12.043660      12.498433\n",
      "...         ...       ...            ...            ...\n",
      "2541  11.342433  0.197355      10.962146      11.735912\n",
      "2542  11.342433  0.197355      10.962146      11.735912\n",
      "2543  11.342433  0.197355      10.962146      11.735912\n",
      "2544  12.080906  0.207162      11.681623      12.493836\n",
      "2545  12.080906  0.207162      11.681623      12.493836\n",
      "2546  12.080906  0.207162      11.681623      12.493836\n",
      "2547  12.080906  0.207162      11.681623      12.493836\n",
      "2548  12.080906  0.207162      11.681623      12.493836\n",
      "2549  12.080906  0.207162      11.681623      12.493836\n",
      "2550  12.080906  0.207162      11.681623      12.493836\n",
      "2551  12.080906  0.207162      11.681623      12.493836\n",
      "2552  12.080906  0.207162      11.681623      12.493836\n",
      "2553  12.080906  0.207162      11.681623      12.493836\n",
      "2554  12.080906  0.207162      11.681623      12.493836\n",
      "2555  12.080906  0.207162      11.681623      12.493836\n",
      "2556  12.080906  0.207162      11.681623      12.493836\n",
      "2557  12.080906  0.207162      11.681623      12.493836\n",
      "2558  12.080906  0.207162      11.681623      12.493836\n",
      "2559  12.080906  0.207162      11.681623      12.493836\n",
      "2560  12.080906  0.207162      11.681623      12.493836\n",
      "2561  11.680781  0.185481      11.322844      12.050034\n",
      "2562  11.680781  0.185481      11.322844      12.050034\n",
      "2563  11.680781  0.185481      11.322844      12.050034\n",
      "2564  11.680781  0.185481      11.322844      12.050034\n",
      "2565  11.680781  0.185481      11.322844      12.050034\n",
      "2566  11.680781  0.185481      11.322844      12.050034\n",
      "2567  11.680781  0.185481      11.322844      12.050034\n",
      "2568  11.680781  0.185481      11.322844      12.050034\n",
      "2569  11.680781  0.185481      11.322844      12.050034\n",
      "2570  11.680781  0.185481      11.322844      12.050034\n",
      "\n",
      "[2571 rows x 4 columns]\n"
     ]
    }
   ],
   "source": [
    "#.summary_frame() returns a pandas DataFrame\n",
    "predictions_summary_frame = poisson_predictions.summary_frame()\n",
    "print(predictions_summary_frame)"
   ]
  },
  {
   "cell_type": "code",
   "execution_count": 305,
   "metadata": {},
   "outputs": [],
   "source": [
    "#predicted_counts=predictions_summary_frame['mean']\n",
    "actual_counts = y_test['trap_count']"
   ]
  },
  {
   "cell_type": "code",
   "execution_count": 306,
   "metadata": {},
   "outputs": [],
   "source": [
    "poisson_count = predictions_summary_frame['mean']"
   ]
  },
  {
   "cell_type": "code",
   "execution_count": 307,
   "metadata": {},
   "outputs": [],
   "source": [
    "#poisson_count"
   ]
  },
  {
   "cell_type": "code",
   "execution_count": 308,
   "metadata": {},
   "outputs": [],
   "source": [
    "#print(actual_counts)"
   ]
  },
  {
   "cell_type": "code",
   "execution_count": 309,
   "metadata": {},
   "outputs": [
    {
     "data": {
      "image/png": "[encoded data removed]",
      "text/plain": [
       "<Figure size 432x288 with 1 Axes>"
      ]
     },
     "metadata": {},
     "output_type": "display_data"
    }
   ],
   "source": [
    "#Mlot the predicted counts versus the actual counts for the test data.\n",
    "fig = plt.figure()\n",
    "fig.suptitle('Predicted versus actual CEW pest counts ')\n",
    "predicted, = plt.plot(X_test.index, poisson_count, 'go-', label='Predicted counts')\n",
    "actual, = plt.plot(X_test.index, actual_counts, 'ro-', label='Actual counts')\n",
    "plt.legend(handles=[predicted, actual])\n",
    "plt.show()"
   ]
  },
  {
   "cell_type": "code",
   "execution_count": 310,
   "metadata": {},
   "outputs": [
    {
     "data": {
      "text/plain": [
       "<Figure size 432x288 with 0 Axes>"
      ]
     },
     "metadata": {},
     "output_type": "display_data"
    },
    {
     "data": {
      "image/png": "[encoded data removed]",
      "text/plain": [
       "<Figure size 432x288 with 1 Axes>"
      ]
     },
     "metadata": {},
     "output_type": "display_data"
    }
   ],
   "source": [
    "plt.clf()\n",
    "fig = plt.figure()\n",
    "fig.suptitle('Scatter plot of Actual versus Predicted counts')\n",
    "plt.scatter(x=poisson_count, y=actual_counts, marker='.')\n",
    "plt.xlabel('Poisson counts')\n",
    "plt.ylabel('Actual counts')\n",
    "plt.show()"
   ]
  },
  {
   "cell_type": "code",
   "execution_count": 311,
   "metadata": {},
   "outputs": [],
   "source": [
    "#writing dataframe into csv file"
   ]
  },
  {
   "cell_type": "code",
   "execution_count": 312,
   "metadata": {},
   "outputs": [],
   "source": [
    "df_CEW_final['poisson_count'] = poisson_count"
   ]
  },
  {
   "cell_type": "code",
   "execution_count": 313,
   "metadata": {
    "pycharm": {
     "name": "#%%\n"
    }
   },
   "outputs": [
    {
     "data": {
      "text/html": [
       "<div>\n",
       "<style scoped>\n",
       "    .dataframe tbody tr th:only-of-type {\n",
       "        vertical-align: middle;\n",
       "    }\n",
       "\n",
       "    .dataframe tbody tr th {\n",
       "        vertical-align: top;\n",
       "    }\n",
       "\n",
       "    .dataframe thead th {\n",
       "        text-align: right;\n",
       "    }\n",
       "</style>\n",
       "<table border=\"1\" class=\"dataframe\">\n",
       "  <thead>\n",
       "    <tr style=\"text-align: right;\">\n",
       "      <th></th>\n",
       "      <th>farm</th>\n",
       "      <th>trap_count</th>\n",
       "      <th>year</th>\n",
       "      <th>date</th>\n",
       "      <th>tempf</th>\n",
       "      <th>dwpf</th>\n",
       "      <th>drct</th>\n",
       "      <th>feel</th>\n",
       "      <th>regression_count</th>\n",
       "      <th>poisson_count</th>\n",
       "    </tr>\n",
       "  </thead>\n",
       "  <tbody>\n",
       "    <tr>\n",
       "      <th>0</th>\n",
       "      <td>Pelham-G</td>\n",
       "      <td>0</td>\n",
       "      <td>2006</td>\n",
       "      <td>2006-06-19</td>\n",
       "      <td>70.977613</td>\n",
       "      <td>63.913169</td>\n",
       "      <td>63.703704</td>\n",
       "      <td>71.301399</td>\n",
       "      <td>10.459989</td>\n",
       "      <td>10.502287</td>\n",
       "    </tr>\n",
       "    <tr>\n",
       "      <th>1</th>\n",
       "      <td>Litchfield-W</td>\n",
       "      <td>0</td>\n",
       "      <td>2006</td>\n",
       "      <td>2006-06-19</td>\n",
       "      <td>70.977613</td>\n",
       "      <td>63.913169</td>\n",
       "      <td>63.703704</td>\n",
       "      <td>71.301399</td>\n",
       "      <td>10.459989</td>\n",
       "      <td>10.502287</td>\n",
       "    </tr>\n",
       "    <tr>\n",
       "      <th>2</th>\n",
       "      <td>Litchfield-M</td>\n",
       "      <td>0</td>\n",
       "      <td>2006</td>\n",
       "      <td>2006-06-19</td>\n",
       "      <td>70.977613</td>\n",
       "      <td>63.913169</td>\n",
       "      <td>63.703704</td>\n",
       "      <td>71.301399</td>\n",
       "      <td>10.459989</td>\n",
       "      <td>10.502287</td>\n",
       "    </tr>\n",
       "    <tr>\n",
       "      <th>3</th>\n",
       "      <td>Merrimack-T</td>\n",
       "      <td>0</td>\n",
       "      <td>2006</td>\n",
       "      <td>2006-06-19</td>\n",
       "      <td>70.977613</td>\n",
       "      <td>63.913169</td>\n",
       "      <td>63.703704</td>\n",
       "      <td>71.301399</td>\n",
       "      <td>10.459989</td>\n",
       "      <td>10.502287</td>\n",
       "    </tr>\n",
       "    <tr>\n",
       "      <th>4</th>\n",
       "      <td>Hollis-L</td>\n",
       "      <td>1</td>\n",
       "      <td>2006</td>\n",
       "      <td>2006-06-19</td>\n",
       "      <td>70.977613</td>\n",
       "      <td>63.913169</td>\n",
       "      <td>63.703704</td>\n",
       "      <td>71.301399</td>\n",
       "      <td>10.459989</td>\n",
       "      <td>10.502287</td>\n",
       "    </tr>\n",
       "  </tbody>\n",
       "</table>\n",
       "</div>"
      ],
      "text/plain": [
       "           farm  trap_count  year        date      tempf       dwpf  \\\n",
       "0      Pelham-G           0  2006  2006-06-19  70.977613  63.913169   \n",
       "1  Litchfield-W           0  2006  2006-06-19  70.977613  63.913169   \n",
       "2  Litchfield-M           0  2006  2006-06-19  70.977613  63.913169   \n",
       "3   Merrimack-T           0  2006  2006-06-19  70.977613  63.913169   \n",
       "4      Hollis-L           1  2006  2006-06-19  70.977613  63.913169   \n",
       "\n",
       "        drct       feel  regression_count  poisson_count  \n",
       "0  63.703704  71.301399         10.459989      10.502287  \n",
       "1  63.703704  71.301399         10.459989      10.502287  \n",
       "2  63.703704  71.301399         10.459989      10.502287  \n",
       "3  63.703704  71.301399         10.459989      10.502287  \n",
       "4  63.703704  71.301399         10.459989      10.502287  "
      ]
     },
     "execution_count": 313,
     "metadata": {},
     "output_type": "execute_result"
    }
   ],
   "source": [
    "df_CEW_final.head()"
   ]
  },
  {
   "cell_type": "code",
   "execution_count": 314,
   "metadata": {},
   "outputs": [],
   "source": [
    "#writing into the csv file\n",
    "df_CEW_final.to_csv(\"CEW_predicted_count.csv\", index = False, sep = ',')"
   ]
  },
  {
   "cell_type": "markdown",
   "metadata": {},
   "source": [
    "# Negative Binomial Regression - CEW"
   ]
  },
  {
   "cell_type": "code",
   "execution_count": 315,
   "metadata": {},
   "outputs": [
    {
     "name": "stdout",
     "output_type": "stream",
     "text": [
      "[10.50228707 10.50228707 10.50228707 ... 11.68078149 11.68078149\n",
      " 11.68078149]\n"
     ]
    }
   ],
   "source": [
    "#print out the fitted rate vector\n",
    "print(poisson_training_results.mu)"
   ]
  },
  {
   "cell_type": "code",
   "execution_count": 316,
   "metadata": {},
   "outputs": [],
   "source": [
    "#Add the λ vector as a new column called 'BB_LAMBDA' to the Data Frame of the training data set\n",
    "df_CEW_final_NB = df_CEW_final"
   ]
  },
  {
   "cell_type": "code",
   "execution_count": 317,
   "metadata": {},
   "outputs": [
    {
     "data": {
      "text/html": [
       "<div>\n",
       "<style scoped>\n",
       "    .dataframe tbody tr th:only-of-type {\n",
       "        vertical-align: middle;\n",
       "    }\n",
       "\n",
       "    .dataframe tbody tr th {\n",
       "        vertical-align: top;\n",
       "    }\n",
       "\n",
       "    .dataframe thead th {\n",
       "        text-align: right;\n",
       "    }\n",
       "</style>\n",
       "<table border=\"1\" class=\"dataframe\">\n",
       "  <thead>\n",
       "    <tr style=\"text-align: right;\">\n",
       "      <th></th>\n",
       "      <th>farm</th>\n",
       "      <th>trap_count</th>\n",
       "      <th>year</th>\n",
       "      <th>date</th>\n",
       "      <th>tempf</th>\n",
       "      <th>dwpf</th>\n",
       "      <th>drct</th>\n",
       "      <th>feel</th>\n",
       "      <th>regression_count</th>\n",
       "      <th>poisson_count</th>\n",
       "    </tr>\n",
       "  </thead>\n",
       "  <tbody>\n",
       "    <tr>\n",
       "      <th>0</th>\n",
       "      <td>Pelham-G</td>\n",
       "      <td>0</td>\n",
       "      <td>2006</td>\n",
       "      <td>2006-06-19</td>\n",
       "      <td>70.977613</td>\n",
       "      <td>63.913169</td>\n",
       "      <td>63.703704</td>\n",
       "      <td>71.301399</td>\n",
       "      <td>10.459989</td>\n",
       "      <td>10.502287</td>\n",
       "    </tr>\n",
       "    <tr>\n",
       "      <th>1</th>\n",
       "      <td>Litchfield-W</td>\n",
       "      <td>0</td>\n",
       "      <td>2006</td>\n",
       "      <td>2006-06-19</td>\n",
       "      <td>70.977613</td>\n",
       "      <td>63.913169</td>\n",
       "      <td>63.703704</td>\n",
       "      <td>71.301399</td>\n",
       "      <td>10.459989</td>\n",
       "      <td>10.502287</td>\n",
       "    </tr>\n",
       "    <tr>\n",
       "      <th>2</th>\n",
       "      <td>Litchfield-M</td>\n",
       "      <td>0</td>\n",
       "      <td>2006</td>\n",
       "      <td>2006-06-19</td>\n",
       "      <td>70.977613</td>\n",
       "      <td>63.913169</td>\n",
       "      <td>63.703704</td>\n",
       "      <td>71.301399</td>\n",
       "      <td>10.459989</td>\n",
       "      <td>10.502287</td>\n",
       "    </tr>\n",
       "    <tr>\n",
       "      <th>3</th>\n",
       "      <td>Merrimack-T</td>\n",
       "      <td>0</td>\n",
       "      <td>2006</td>\n",
       "      <td>2006-06-19</td>\n",
       "      <td>70.977613</td>\n",
       "      <td>63.913169</td>\n",
       "      <td>63.703704</td>\n",
       "      <td>71.301399</td>\n",
       "      <td>10.459989</td>\n",
       "      <td>10.502287</td>\n",
       "    </tr>\n",
       "    <tr>\n",
       "      <th>4</th>\n",
       "      <td>Hollis-L</td>\n",
       "      <td>1</td>\n",
       "      <td>2006</td>\n",
       "      <td>2006-06-19</td>\n",
       "      <td>70.977613</td>\n",
       "      <td>63.913169</td>\n",
       "      <td>63.703704</td>\n",
       "      <td>71.301399</td>\n",
       "      <td>10.459989</td>\n",
       "      <td>10.502287</td>\n",
       "    </tr>\n",
       "  </tbody>\n",
       "</table>\n",
       "</div>"
      ],
      "text/plain": [
       "           farm  trap_count  year        date      tempf       dwpf  \\\n",
       "0      Pelham-G           0  2006  2006-06-19  70.977613  63.913169   \n",
       "1  Litchfield-W           0  2006  2006-06-19  70.977613  63.913169   \n",
       "2  Litchfield-M           0  2006  2006-06-19  70.977613  63.913169   \n",
       "3   Merrimack-T           0  2006  2006-06-19  70.977613  63.913169   \n",
       "4      Hollis-L           1  2006  2006-06-19  70.977613  63.913169   \n",
       "\n",
       "        drct       feel  regression_count  poisson_count  \n",
       "0  63.703704  71.301399         10.459989      10.502287  \n",
       "1  63.703704  71.301399         10.459989      10.502287  \n",
       "2  63.703704  71.301399         10.459989      10.502287  \n",
       "3  63.703704  71.301399         10.459989      10.502287  \n",
       "4  63.703704  71.301399         10.459989      10.502287  "
      ]
     },
     "execution_count": 317,
     "metadata": {},
     "output_type": "execute_result"
    }
   ],
   "source": [
    "df_CEW_final_NB.head()"
   ]
  },
  {
   "cell_type": "code",
   "execution_count": 318,
   "metadata": {},
   "outputs": [],
   "source": [
    "df_CEW_final_NB['BB_LAMBDA'] = poisson_training_results.mu"
   ]
  },
  {
   "cell_type": "code",
   "execution_count": 319,
   "metadata": {},
   "outputs": [
    {
     "data": {
      "text/html": [
       "<div>\n",
       "<style scoped>\n",
       "    .dataframe tbody tr th:only-of-type {\n",
       "        vertical-align: middle;\n",
       "    }\n",
       "\n",
       "    .dataframe tbody tr th {\n",
       "        vertical-align: top;\n",
       "    }\n",
       "\n",
       "    .dataframe thead th {\n",
       "        text-align: right;\n",
       "    }\n",
       "</style>\n",
       "<table border=\"1\" class=\"dataframe\">\n",
       "  <thead>\n",
       "    <tr style=\"text-align: right;\">\n",
       "      <th></th>\n",
       "      <th>farm</th>\n",
       "      <th>trap_count</th>\n",
       "      <th>year</th>\n",
       "      <th>date</th>\n",
       "      <th>tempf</th>\n",
       "      <th>dwpf</th>\n",
       "      <th>drct</th>\n",
       "      <th>feel</th>\n",
       "      <th>regression_count</th>\n",
       "      <th>poisson_count</th>\n",
       "      <th>BB_LAMBDA</th>\n",
       "    </tr>\n",
       "  </thead>\n",
       "  <tbody>\n",
       "    <tr>\n",
       "      <th>0</th>\n",
       "      <td>Pelham-G</td>\n",
       "      <td>0</td>\n",
       "      <td>2006</td>\n",
       "      <td>2006-06-19</td>\n",
       "      <td>70.977613</td>\n",
       "      <td>63.913169</td>\n",
       "      <td>63.703704</td>\n",
       "      <td>71.301399</td>\n",
       "      <td>10.459989</td>\n",
       "      <td>10.502287</td>\n",
       "      <td>10.502287</td>\n",
       "    </tr>\n",
       "    <tr>\n",
       "      <th>1</th>\n",
       "      <td>Litchfield-W</td>\n",
       "      <td>0</td>\n",
       "      <td>2006</td>\n",
       "      <td>2006-06-19</td>\n",
       "      <td>70.977613</td>\n",
       "      <td>63.913169</td>\n",
       "      <td>63.703704</td>\n",
       "      <td>71.301399</td>\n",
       "      <td>10.459989</td>\n",
       "      <td>10.502287</td>\n",
       "      <td>10.502287</td>\n",
       "    </tr>\n",
       "    <tr>\n",
       "      <th>2</th>\n",
       "      <td>Litchfield-M</td>\n",
       "      <td>0</td>\n",
       "      <td>2006</td>\n",
       "      <td>2006-06-19</td>\n",
       "      <td>70.977613</td>\n",
       "      <td>63.913169</td>\n",
       "      <td>63.703704</td>\n",
       "      <td>71.301399</td>\n",
       "      <td>10.459989</td>\n",
       "      <td>10.502287</td>\n",
       "      <td>10.502287</td>\n",
       "    </tr>\n",
       "    <tr>\n",
       "      <th>3</th>\n",
       "      <td>Merrimack-T</td>\n",
       "      <td>0</td>\n",
       "      <td>2006</td>\n",
       "      <td>2006-06-19</td>\n",
       "      <td>70.977613</td>\n",
       "      <td>63.913169</td>\n",
       "      <td>63.703704</td>\n",
       "      <td>71.301399</td>\n",
       "      <td>10.459989</td>\n",
       "      <td>10.502287</td>\n",
       "      <td>10.502287</td>\n",
       "    </tr>\n",
       "    <tr>\n",
       "      <th>4</th>\n",
       "      <td>Hollis-L</td>\n",
       "      <td>1</td>\n",
       "      <td>2006</td>\n",
       "      <td>2006-06-19</td>\n",
       "      <td>70.977613</td>\n",
       "      <td>63.913169</td>\n",
       "      <td>63.703704</td>\n",
       "      <td>71.301399</td>\n",
       "      <td>10.459989</td>\n",
       "      <td>10.502287</td>\n",
       "      <td>10.502287</td>\n",
       "    </tr>\n",
       "  </tbody>\n",
       "</table>\n",
       "</div>"
      ],
      "text/plain": [
       "           farm  trap_count  year        date      tempf       dwpf  \\\n",
       "0      Pelham-G           0  2006  2006-06-19  70.977613  63.913169   \n",
       "1  Litchfield-W           0  2006  2006-06-19  70.977613  63.913169   \n",
       "2  Litchfield-M           0  2006  2006-06-19  70.977613  63.913169   \n",
       "3   Merrimack-T           0  2006  2006-06-19  70.977613  63.913169   \n",
       "4      Hollis-L           1  2006  2006-06-19  70.977613  63.913169   \n",
       "\n",
       "        drct       feel  regression_count  poisson_count  BB_LAMBDA  \n",
       "0  63.703704  71.301399         10.459989      10.502287  10.502287  \n",
       "1  63.703704  71.301399         10.459989      10.502287  10.502287  \n",
       "2  63.703704  71.301399         10.459989      10.502287  10.502287  \n",
       "3  63.703704  71.301399         10.459989      10.502287  10.502287  \n",
       "4  63.703704  71.301399         10.459989      10.502287  10.502287  "
      ]
     },
     "execution_count": 319,
     "metadata": {},
     "output_type": "execute_result"
    }
   ],
   "source": [
    "df_CEW_final_NB.head()"
   ]
  },
  {
   "cell_type": "code",
   "execution_count": 320,
   "metadata": {},
   "outputs": [],
   "source": [
    "#add a derived column called 'AUX_OLS_DEP' to the pandas Data Frame. This new column will store the values of the dependent variable of the OLS regression\n",
    "df_CEW_final_NB['AUX_OLS_DEP'] = df_CEW_final_NB.apply(lambda x: ((x['poisson_count'] - x['BB_LAMBDA'])**2 - x['poisson_count']) / x['BB_LAMBDA'], axis=1)"
   ]
  },
  {
   "cell_type": "code",
   "execution_count": 321,
   "metadata": {},
   "outputs": [
    {
     "data": {
      "text/html": [
       "<div>\n",
       "<style scoped>\n",
       "    .dataframe tbody tr th:only-of-type {\n",
       "        vertical-align: middle;\n",
       "    }\n",
       "\n",
       "    .dataframe tbody tr th {\n",
       "        vertical-align: top;\n",
       "    }\n",
       "\n",
       "    .dataframe thead th {\n",
       "        text-align: right;\n",
       "    }\n",
       "</style>\n",
       "<table border=\"1\" class=\"dataframe\">\n",
       "  <thead>\n",
       "    <tr style=\"text-align: right;\">\n",
       "      <th></th>\n",
       "      <th>farm</th>\n",
       "      <th>trap_count</th>\n",
       "      <th>year</th>\n",
       "      <th>date</th>\n",
       "      <th>tempf</th>\n",
       "      <th>dwpf</th>\n",
       "      <th>drct</th>\n",
       "      <th>feel</th>\n",
       "      <th>regression_count</th>\n",
       "      <th>poisson_count</th>\n",
       "      <th>BB_LAMBDA</th>\n",
       "      <th>AUX_OLS_DEP</th>\n",
       "    </tr>\n",
       "  </thead>\n",
       "  <tbody>\n",
       "    <tr>\n",
       "      <th>0</th>\n",
       "      <td>Pelham-G</td>\n",
       "      <td>0</td>\n",
       "      <td>2006</td>\n",
       "      <td>2006-06-19</td>\n",
       "      <td>70.977613</td>\n",
       "      <td>63.913169</td>\n",
       "      <td>63.703704</td>\n",
       "      <td>71.301399</td>\n",
       "      <td>10.459989</td>\n",
       "      <td>10.502287</td>\n",
       "      <td>10.502287</td>\n",
       "      <td>-1.0</td>\n",
       "    </tr>\n",
       "    <tr>\n",
       "      <th>1</th>\n",
       "      <td>Litchfield-W</td>\n",
       "      <td>0</td>\n",
       "      <td>2006</td>\n",
       "      <td>2006-06-19</td>\n",
       "      <td>70.977613</td>\n",
       "      <td>63.913169</td>\n",
       "      <td>63.703704</td>\n",
       "      <td>71.301399</td>\n",
       "      <td>10.459989</td>\n",
       "      <td>10.502287</td>\n",
       "      <td>10.502287</td>\n",
       "      <td>-1.0</td>\n",
       "    </tr>\n",
       "    <tr>\n",
       "      <th>2</th>\n",
       "      <td>Litchfield-M</td>\n",
       "      <td>0</td>\n",
       "      <td>2006</td>\n",
       "      <td>2006-06-19</td>\n",
       "      <td>70.977613</td>\n",
       "      <td>63.913169</td>\n",
       "      <td>63.703704</td>\n",
       "      <td>71.301399</td>\n",
       "      <td>10.459989</td>\n",
       "      <td>10.502287</td>\n",
       "      <td>10.502287</td>\n",
       "      <td>-1.0</td>\n",
       "    </tr>\n",
       "    <tr>\n",
       "      <th>3</th>\n",
       "      <td>Merrimack-T</td>\n",
       "      <td>0</td>\n",
       "      <td>2006</td>\n",
       "      <td>2006-06-19</td>\n",
       "      <td>70.977613</td>\n",
       "      <td>63.913169</td>\n",
       "      <td>63.703704</td>\n",
       "      <td>71.301399</td>\n",
       "      <td>10.459989</td>\n",
       "      <td>10.502287</td>\n",
       "      <td>10.502287</td>\n",
       "      <td>-1.0</td>\n",
       "    </tr>\n",
       "    <tr>\n",
       "      <th>4</th>\n",
       "      <td>Hollis-L</td>\n",
       "      <td>1</td>\n",
       "      <td>2006</td>\n",
       "      <td>2006-06-19</td>\n",
       "      <td>70.977613</td>\n",
       "      <td>63.913169</td>\n",
       "      <td>63.703704</td>\n",
       "      <td>71.301399</td>\n",
       "      <td>10.459989</td>\n",
       "      <td>10.502287</td>\n",
       "      <td>10.502287</td>\n",
       "      <td>-1.0</td>\n",
       "    </tr>\n",
       "  </tbody>\n",
       "</table>\n",
       "</div>"
      ],
      "text/plain": [
       "           farm  trap_count  year        date      tempf       dwpf  \\\n",
       "0      Pelham-G           0  2006  2006-06-19  70.977613  63.913169   \n",
       "1  Litchfield-W           0  2006  2006-06-19  70.977613  63.913169   \n",
       "2  Litchfield-M           0  2006  2006-06-19  70.977613  63.913169   \n",
       "3   Merrimack-T           0  2006  2006-06-19  70.977613  63.913169   \n",
       "4      Hollis-L           1  2006  2006-06-19  70.977613  63.913169   \n",
       "\n",
       "        drct       feel  regression_count  poisson_count  BB_LAMBDA  \\\n",
       "0  63.703704  71.301399         10.459989      10.502287  10.502287   \n",
       "1  63.703704  71.301399         10.459989      10.502287  10.502287   \n",
       "2  63.703704  71.301399         10.459989      10.502287  10.502287   \n",
       "3  63.703704  71.301399         10.459989      10.502287  10.502287   \n",
       "4  63.703704  71.301399         10.459989      10.502287  10.502287   \n",
       "\n",
       "   AUX_OLS_DEP  \n",
       "0         -1.0  \n",
       "1         -1.0  \n",
       "2         -1.0  \n",
       "3         -1.0  \n",
       "4         -1.0  "
      ]
     },
     "execution_count": 321,
     "metadata": {},
     "output_type": "execute_result"
    }
   ],
   "source": [
    "df_CEW_final_NB.head()"
   ]
  },
  {
   "cell_type": "code",
   "execution_count": 322,
   "metadata": {},
   "outputs": [],
   "source": [
    "import statsmodels.formula.api as smf\n",
    "import statsmodels.api as sm"
   ]
  },
  {
   "cell_type": "code",
   "execution_count": 323,
   "metadata": {},
   "outputs": [],
   "source": [
    "#use patsy to form the model specification for the OLSR\n",
    "ols_expr = \"\"\"AUX_OLS_DEP ~ BB_LAMBDA - 1\"\"\""
   ]
  },
  {
   "cell_type": "code",
   "execution_count": 324,
   "metadata": {},
   "outputs": [],
   "source": [
    "#Configure and fit the OLSR model\n",
    "aux_olsr_results = smf.ols(ols_expr, df_CEW_final_NB).fit()"
   ]
  },
  {
   "cell_type": "code",
   "execution_count": 325,
   "metadata": {},
   "outputs": [
    {
     "name": "stdout",
     "output_type": "stream",
     "text": [
      "0.08788375329980906\n"
     ]
    }
   ],
   "source": [
    "#Print the regression params\n",
    "print(abs(aux_olsr_results.params[0]))\n"
   ]
  },
  {
   "cell_type": "code",
   "execution_count": 326,
   "metadata": {},
   "outputs": [],
   "source": [
    "#train the NB2 model on the training data set\n",
    "nb2_training_results = sm.GLM(y_train, X_train,family=sm.families.NegativeBinomial(alpha = abs(aux_olsr_results.params[0]))).fit()"
   ]
  },
  {
   "cell_type": "code",
   "execution_count": 327,
   "metadata": {},
   "outputs": [
    {
     "name": "stdout",
     "output_type": "stream",
     "text": [
      "                 Generalized Linear Model Regression Results                  \n",
      "==============================================================================\n",
      "Dep. Variable:             trap_count   No. Observations:                 2571\n",
      "Model:                            GLM   Df Residuals:                     2566\n",
      "Model Family:        NegativeBinomial   Df Model:                            4\n",
      "Link Function:                    log   Scale:                          1.0000\n",
      "Method:                          IRLS   Log-Likelihood:                -20848.\n",
      "Date:                Tue, 05 May 2020   Deviance:                       34263.\n",
      "Time:                        00:11:57   Pearson chi2:                 7.77e+04\n",
      "No. Iterations:                     9   Covariance Type:             nonrobust\n",
      "==============================================================================\n",
      "                 coef    std err          z      P>|z|      [0.025      0.975]\n",
      "------------------------------------------------------------------------------\n",
      "Intercept      2.2529      0.059     38.145      0.000       2.137       2.369\n",
      "tempf         -0.1147      0.010    -11.207      0.000      -0.135      -0.095\n",
      "dwpf          -0.0198      0.004     -5.486      0.000      -0.027      -0.013\n",
      "drct           0.0017      0.000      4.516      0.000       0.001       0.002\n",
      "feel           0.1317      0.010     13.273      0.000       0.112       0.151\n",
      "==============================================================================\n"
     ]
    }
   ],
   "source": [
    "#print the training summary\n",
    "print(nb2_training_results.summary())"
   ]
  },
  {
   "cell_type": "code",
   "execution_count": 328,
   "metadata": {},
   "outputs": [],
   "source": [
    "#make some predictions using our trained NB2 model\n",
    "nb2_predictions = nb2_training_results.get_prediction(X_test)"
   ]
  },
  {
   "cell_type": "code",
   "execution_count": 329,
   "metadata": {},
   "outputs": [
    {
     "name": "stdout",
     "output_type": "stream",
     "text": [
      "           mean   mean_se  mean_ci_lower  mean_ci_upper\n",
      "0     10.398317  0.168510      10.073234      10.733890\n",
      "1     10.398317  0.168510      10.073234      10.733890\n",
      "2     10.398317  0.168510      10.073234      10.733890\n",
      "3     10.398317  0.168510      10.073234      10.733890\n",
      "4     10.398317  0.168510      10.073234      10.733890\n",
      "5     10.398317  0.168510      10.073234      10.733890\n",
      "6     10.398317  0.168510      10.073234      10.733890\n",
      "7     10.398317  0.168510      10.073234      10.733890\n",
      "8     10.398317  0.168510      10.073234      10.733890\n",
      "9     10.398317  0.168510      10.073234      10.733890\n",
      "10    10.398317  0.168510      10.073234      10.733890\n",
      "11    10.793132  0.145126      10.512407      11.081355\n",
      "12    10.793132  0.145126      10.512407      11.081355\n",
      "13    10.793132  0.145126      10.512407      11.081355\n",
      "14    10.793132  0.145126      10.512407      11.081355\n",
      "15    10.793132  0.145126      10.512407      11.081355\n",
      "16    10.793132  0.145126      10.512407      11.081355\n",
      "17    10.793132  0.145126      10.512407      11.081355\n",
      "18    10.793132  0.145126      10.512407      11.081355\n",
      "19    10.793132  0.145126      10.512407      11.081355\n",
      "20    10.793132  0.145126      10.512407      11.081355\n",
      "21    10.793132  0.145126      10.512407      11.081355\n",
      "22    12.518481  0.170246      12.189212      12.856645\n",
      "23    12.518481  0.170246      12.189212      12.856645\n",
      "24    12.518481  0.170246      12.189212      12.856645\n",
      "25    12.518481  0.170246      12.189212      12.856645\n",
      "26    12.518481  0.170246      12.189212      12.856645\n",
      "27    12.518481  0.170246      12.189212      12.856645\n",
      "28    12.518481  0.170246      12.189212      12.856645\n",
      "29    12.518481  0.170246      12.189212      12.856645\n",
      "...         ...       ...            ...            ...\n",
      "2541  11.245975  0.278699      10.712789      11.805698\n",
      "2542  11.245975  0.278699      10.712789      11.805698\n",
      "2543  11.245975  0.278699      10.712789      11.805698\n",
      "2544  12.117454  0.296077      11.550829      12.711874\n",
      "2545  12.117454  0.296077      11.550829      12.711874\n",
      "2546  12.117454  0.296077      11.550829      12.711874\n",
      "2547  12.117454  0.296077      11.550829      12.711874\n",
      "2548  12.117454  0.296077      11.550829      12.711874\n",
      "2549  12.117454  0.296077      11.550829      12.711874\n",
      "2550  12.117454  0.296077      11.550829      12.711874\n",
      "2551  12.117454  0.296077      11.550829      12.711874\n",
      "2552  12.117454  0.296077      11.550829      12.711874\n",
      "2553  12.117454  0.296077      11.550829      12.711874\n",
      "2554  12.117454  0.296077      11.550829      12.711874\n",
      "2555  12.117454  0.296077      11.550829      12.711874\n",
      "2556  12.117454  0.296077      11.550829      12.711874\n",
      "2557  12.117454  0.296077      11.550829      12.711874\n",
      "2558  12.117454  0.296077      11.550829      12.711874\n",
      "2559  12.117454  0.296077      11.550829      12.711874\n",
      "2560  12.117454  0.296077      11.550829      12.711874\n",
      "2561  11.647666  0.263779      11.141975      12.176308\n",
      "2562  11.647666  0.263779      11.141975      12.176308\n",
      "2563  11.647666  0.263779      11.141975      12.176308\n",
      "2564  11.647666  0.263779      11.141975      12.176308\n",
      "2565  11.647666  0.263779      11.141975      12.176308\n",
      "2566  11.647666  0.263779      11.141975      12.176308\n",
      "2567  11.647666  0.263779      11.141975      12.176308\n",
      "2568  11.647666  0.263779      11.141975      12.176308\n",
      "2569  11.647666  0.263779      11.141975      12.176308\n",
      "2570  11.647666  0.263779      11.141975      12.176308\n",
      "\n",
      "[2571 rows x 4 columns]\n"
     ]
    }
   ],
   "source": [
    "#print out the predictions\n",
    "predictions_summary_frame = nb2_predictions.summary_frame()\n",
    "print(predictions_summary_frame)"
   ]
  },
  {
   "cell_type": "code",
   "execution_count": 330,
   "metadata": {},
   "outputs": [],
   "source": [
    "#plot the predicted counts versus the actual counts for the test data\n",
    "NB_counts=predictions_summary_frame['mean']"
   ]
  },
  {
   "cell_type": "code",
   "execution_count": 337,
   "metadata": {},
   "outputs": [],
   "source": [
    "#NB_counts"
   ]
  },
  {
   "cell_type": "code",
   "execution_count": 332,
   "metadata": {},
   "outputs": [],
   "source": [
    "NB_actual_counts = y_test['trap_count']"
   ]
  },
  {
   "cell_type": "code",
   "execution_count": 333,
   "metadata": {},
   "outputs": [
    {
     "data": {
      "image/png": "[encoded data removed]",
      "text/plain": [
       "<Figure size 432x288 with 1 Axes>"
      ]
     },
     "metadata": {},
     "output_type": "display_data"
    }
   ],
   "source": [
    "fig = plt.figure()\n",
    "fig.suptitle('Negative Binomial Regression')\n",
    "predicted, = plt.plot(X_test.index, NB_counts, 'go-', label='NB Predicted counts')\n",
    "actual, = plt.plot(X_test.index, NB_actual_counts, 'ro-', label='Actual counts')\n",
    "plt.legend(handles=[predicted, actual])\n",
    "plt.show()"
   ]
  },
  {
   "cell_type": "code",
   "execution_count": 334,
   "metadata": {},
   "outputs": [
    {
     "data": {
      "text/html": [
       "<div>\n",
       "<style scoped>\n",
       "    .dataframe tbody tr th:only-of-type {\n",
       "        vertical-align: middle;\n",
       "    }\n",
       "\n",
       "    .dataframe tbody tr th {\n",
       "        vertical-align: top;\n",
       "    }\n",
       "\n",
       "    .dataframe thead th {\n",
       "        text-align: right;\n",
       "    }\n",
       "</style>\n",
       "<table border=\"1\" class=\"dataframe\">\n",
       "  <thead>\n",
       "    <tr style=\"text-align: right;\">\n",
       "      <th></th>\n",
       "      <th>farm</th>\n",
       "      <th>trap_count</th>\n",
       "      <th>year</th>\n",
       "      <th>date</th>\n",
       "      <th>tempf</th>\n",
       "      <th>dwpf</th>\n",
       "      <th>drct</th>\n",
       "      <th>feel</th>\n",
       "      <th>regression_count</th>\n",
       "      <th>poisson_count</th>\n",
       "      <th>BB_LAMBDA</th>\n",
       "      <th>AUX_OLS_DEP</th>\n",
       "    </tr>\n",
       "  </thead>\n",
       "  <tbody>\n",
       "    <tr>\n",
       "      <th>0</th>\n",
       "      <td>Pelham-G</td>\n",
       "      <td>0</td>\n",
       "      <td>2006</td>\n",
       "      <td>2006-06-19</td>\n",
       "      <td>70.977613</td>\n",
       "      <td>63.913169</td>\n",
       "      <td>63.703704</td>\n",
       "      <td>71.301399</td>\n",
       "      <td>10.459989</td>\n",
       "      <td>10.502287</td>\n",
       "      <td>10.502287</td>\n",
       "      <td>-1.0</td>\n",
       "    </tr>\n",
       "    <tr>\n",
       "      <th>1</th>\n",
       "      <td>Litchfield-W</td>\n",
       "      <td>0</td>\n",
       "      <td>2006</td>\n",
       "      <td>2006-06-19</td>\n",
       "      <td>70.977613</td>\n",
       "      <td>63.913169</td>\n",
       "      <td>63.703704</td>\n",
       "      <td>71.301399</td>\n",
       "      <td>10.459989</td>\n",
       "      <td>10.502287</td>\n",
       "      <td>10.502287</td>\n",
       "      <td>-1.0</td>\n",
       "    </tr>\n",
       "    <tr>\n",
       "      <th>2</th>\n",
       "      <td>Litchfield-M</td>\n",
       "      <td>0</td>\n",
       "      <td>2006</td>\n",
       "      <td>2006-06-19</td>\n",
       "      <td>70.977613</td>\n",
       "      <td>63.913169</td>\n",
       "      <td>63.703704</td>\n",
       "      <td>71.301399</td>\n",
       "      <td>10.459989</td>\n",
       "      <td>10.502287</td>\n",
       "      <td>10.502287</td>\n",
       "      <td>-1.0</td>\n",
       "    </tr>\n",
       "    <tr>\n",
       "      <th>3</th>\n",
       "      <td>Merrimack-T</td>\n",
       "      <td>0</td>\n",
       "      <td>2006</td>\n",
       "      <td>2006-06-19</td>\n",
       "      <td>70.977613</td>\n",
       "      <td>63.913169</td>\n",
       "      <td>63.703704</td>\n",
       "      <td>71.301399</td>\n",
       "      <td>10.459989</td>\n",
       "      <td>10.502287</td>\n",
       "      <td>10.502287</td>\n",
       "      <td>-1.0</td>\n",
       "    </tr>\n",
       "    <tr>\n",
       "      <th>4</th>\n",
       "      <td>Hollis-L</td>\n",
       "      <td>1</td>\n",
       "      <td>2006</td>\n",
       "      <td>2006-06-19</td>\n",
       "      <td>70.977613</td>\n",
       "      <td>63.913169</td>\n",
       "      <td>63.703704</td>\n",
       "      <td>71.301399</td>\n",
       "      <td>10.459989</td>\n",
       "      <td>10.502287</td>\n",
       "      <td>10.502287</td>\n",
       "      <td>-1.0</td>\n",
       "    </tr>\n",
       "  </tbody>\n",
       "</table>\n",
       "</div>"
      ],
      "text/plain": [
       "           farm  trap_count  year        date      tempf       dwpf  \\\n",
       "0      Pelham-G           0  2006  2006-06-19  70.977613  63.913169   \n",
       "1  Litchfield-W           0  2006  2006-06-19  70.977613  63.913169   \n",
       "2  Litchfield-M           0  2006  2006-06-19  70.977613  63.913169   \n",
       "3   Merrimack-T           0  2006  2006-06-19  70.977613  63.913169   \n",
       "4      Hollis-L           1  2006  2006-06-19  70.977613  63.913169   \n",
       "\n",
       "        drct       feel  regression_count  poisson_count  BB_LAMBDA  \\\n",
       "0  63.703704  71.301399         10.459989      10.502287  10.502287   \n",
       "1  63.703704  71.301399         10.459989      10.502287  10.502287   \n",
       "2  63.703704  71.301399         10.459989      10.502287  10.502287   \n",
       "3  63.703704  71.301399         10.459989      10.502287  10.502287   \n",
       "4  63.703704  71.301399         10.459989      10.502287  10.502287   \n",
       "\n",
       "   AUX_OLS_DEP  \n",
       "0         -1.0  \n",
       "1         -1.0  \n",
       "2         -1.0  \n",
       "3         -1.0  \n",
       "4         -1.0  "
      ]
     },
     "execution_count": 334,
     "metadata": {},
     "output_type": "execute_result"
    }
   ],
   "source": [
    "df_CEW_final.head()"
   ]
  },
  {
   "cell_type": "code",
   "execution_count": 335,
   "metadata": {},
   "outputs": [],
   "source": [
    "df_CEW_final['NB_count'] = NB_counts"
   ]
  },
  {
   "cell_type": "code",
   "execution_count": 336,
   "metadata": {},
   "outputs": [],
   "source": [
    "#writing into the csv file\n",
    "df_CEW_final.to_csv(\"CEW_predicted_count.csv\", index = False, sep = ',')"
   ]
  },
  {
   "cell_type": "markdown",
   "metadata": {},
   "source": [
    "# selecting weather dataframe within the date range - ECB Pest"
   ]
  },
  {
   "cell_type": "code",
   "execution_count": 177,
   "metadata": {},
   "outputs": [
    {
     "name": "stdout",
     "output_type": "stream",
     "text": [
      "2006-06-19 00:00:00\n",
      "2018-10-15 00:00:00\n"
     ]
    }
   ],
   "source": [
    "print(search_ecb_STdate)\n",
    "print(search_ecb_ENDdate)"
   ]
  },
  {
   "cell_type": "code",
   "execution_count": 178,
   "metadata": {},
   "outputs": [],
   "source": [
    "df_equation_ECB = df_equation.loc[(df_equation['valid'] >= search_ecb_STdate) & (df_equation['valid'] <= search_ecb_ENDdate), :]"
   ]
  },
  {
   "cell_type": "code",
   "execution_count": 179,
   "metadata": {},
   "outputs": [],
   "source": [
    "#need to get all the columns from here and sum up fro every week \n",
    "#select date and each column, and find the average for each column\n",
    "df_tempf_ECB = df_equation_ECB[['tmpf','dwpf', 'drct','feel','valid']]\n",
    "df_tempf_ECB[\"tmpf\"] = df_tempf_ECB[\"tmpf\"].fillna(0)\n",
    "df_tempf_ECB[\"dwpf\"] = df_tempf_ECB[\"dwpf\"].fillna(0)\n",
    "df_tempf_ECB[\"drct\"] = df_tempf_ECB[\"drct\"].fillna(0)\n",
    "df_tempf_ECB[\"feel\"] = df_tempf_ECB[\"feel\"].fillna(0)"
   ]
  },
  {
   "cell_type": "code",
   "execution_count": 180,
   "metadata": {},
   "outputs": [
    {
     "name": "stdout",
     "output_type": "stream",
     "text": [
      "total temperature index  642\n",
      "total weeks:  47922\n"
     ]
    }
   ],
   "source": [
    "#calling getweekly_temperature\n",
    "ECB_weather_data_dic = {}\n",
    "getweekly_temperature(df_tempf_ECB,ECB_weather_data_dic)"
   ]
  },
  {
   "cell_type": "code",
   "execution_count": 182,
   "metadata": {},
   "outputs": [],
   "source": [
    "df_ECB_weather = pd.DataFrame(ECB_weather_data_dic)"
   ]
  },
  {
   "cell_type": "code",
   "execution_count": 189,
   "metadata": {},
   "outputs": [],
   "source": [
    "df_ECB['date'] = df_ECB['date'].dt.date"
   ]
  },
  {
   "cell_type": "code",
   "execution_count": 190,
   "metadata": {},
   "outputs": [],
   "source": [
    "#combining weather data and pest count data based on the date -----\n",
    "#creating data frame needed for equation\n",
    "df_ECB_weather['date'] = pd.to_datetime(df_ECB_weather['date'])\n",
    "df_ECB_weather['date'] = df_ECB_weather['date'].dt.date\n",
    "df_ECB_final = df_ECB.merge(df_ECB_weather, on='date')"
   ]
  },
  {
   "cell_type": "code",
   "execution_count": 191,
   "metadata": {},
   "outputs": [
    {
     "data": {
      "text/html": [
       "<div>\n",
       "<style scoped>\n",
       "    .dataframe tbody tr th:only-of-type {\n",
       "        vertical-align: middle;\n",
       "    }\n",
       "\n",
       "    .dataframe tbody tr th {\n",
       "        vertical-align: top;\n",
       "    }\n",
       "\n",
       "    .dataframe thead th {\n",
       "        text-align: right;\n",
       "    }\n",
       "</style>\n",
       "<table border=\"1\" class=\"dataframe\">\n",
       "  <thead>\n",
       "    <tr style=\"text-align: right;\">\n",
       "      <th></th>\n",
       "      <th>farm</th>\n",
       "      <th>trap_count</th>\n",
       "      <th>year</th>\n",
       "      <th>date</th>\n",
       "      <th>tempf</th>\n",
       "      <th>dwpf</th>\n",
       "      <th>drct</th>\n",
       "      <th>feel</th>\n",
       "    </tr>\n",
       "  </thead>\n",
       "  <tbody>\n",
       "    <tr>\n",
       "      <th>0</th>\n",
       "      <td>Litchfield-W</td>\n",
       "      <td>16</td>\n",
       "      <td>2006</td>\n",
       "      <td>2006-06-19</td>\n",
       "      <td>70.977613</td>\n",
       "      <td>63.913169</td>\n",
       "      <td>63.703704</td>\n",
       "      <td>71.301399</td>\n",
       "    </tr>\n",
       "    <tr>\n",
       "      <th>1</th>\n",
       "      <td>Hollis-B</td>\n",
       "      <td>7</td>\n",
       "      <td>2006</td>\n",
       "      <td>2006-06-19</td>\n",
       "      <td>70.977613</td>\n",
       "      <td>63.913169</td>\n",
       "      <td>63.703704</td>\n",
       "      <td>71.301399</td>\n",
       "    </tr>\n",
       "    <tr>\n",
       "      <th>2</th>\n",
       "      <td>Mason-B</td>\n",
       "      <td>11</td>\n",
       "      <td>2006</td>\n",
       "      <td>2006-06-19</td>\n",
       "      <td>70.977613</td>\n",
       "      <td>63.913169</td>\n",
       "      <td>63.703704</td>\n",
       "      <td>71.301399</td>\n",
       "    </tr>\n",
       "    <tr>\n",
       "      <th>3</th>\n",
       "      <td>Litchfield-W</td>\n",
       "      <td>25</td>\n",
       "      <td>2006</td>\n",
       "      <td>2006-06-26</td>\n",
       "      <td>71.243468</td>\n",
       "      <td>65.095887</td>\n",
       "      <td>84.233871</td>\n",
       "      <td>71.733347</td>\n",
       "    </tr>\n",
       "    <tr>\n",
       "      <th>4</th>\n",
       "      <td>Hollis-B</td>\n",
       "      <td>31</td>\n",
       "      <td>2006</td>\n",
       "      <td>2006-06-26</td>\n",
       "      <td>71.243468</td>\n",
       "      <td>65.095887</td>\n",
       "      <td>84.233871</td>\n",
       "      <td>71.733347</td>\n",
       "    </tr>\n",
       "  </tbody>\n",
       "</table>\n",
       "</div>"
      ],
      "text/plain": [
       "           farm  trap_count  year        date      tempf       dwpf  \\\n",
       "0  Litchfield-W          16  2006  2006-06-19  70.977613  63.913169   \n",
       "1      Hollis-B           7  2006  2006-06-19  70.977613  63.913169   \n",
       "2       Mason-B          11  2006  2006-06-19  70.977613  63.913169   \n",
       "3  Litchfield-W          25  2006  2006-06-26  71.243468  65.095887   \n",
       "4      Hollis-B          31  2006  2006-06-26  71.243468  65.095887   \n",
       "\n",
       "        drct       feel  \n",
       "0  63.703704  71.301399  \n",
       "1  63.703704  71.301399  \n",
       "2  63.703704  71.301399  \n",
       "3  84.233871  71.733347  \n",
       "4  84.233871  71.733347  "
      ]
     },
     "execution_count": 191,
     "metadata": {},
     "output_type": "execute_result"
    }
   ],
   "source": [
    "df_ECB_final.head()"
   ]
  },
  {
   "cell_type": "markdown",
   "metadata": {},
   "source": [
    "# predicting trap counts :::: ECB pest"
   ]
  },
  {
   "cell_type": "code",
   "execution_count": 192,
   "metadata": {},
   "outputs": [],
   "source": [
    "#creating training and testign dataset \n",
    "mask_ecb = np.random.rand(len(df_ECB_final)) < 0.8\n",
    "df_train_ECB = df_ECB_final[mask_ecb]\n",
    "df_test_ECB = df_ECB_final[~mask_ecb]"
   ]
  },
  {
   "cell_type": "code",
   "execution_count": 194,
   "metadata": {},
   "outputs": [],
   "source": [
    "expr_ECB = \"\"\"trap_count ~ tempf + dwpf + drct + feel\"\"\""
   ]
  },
  {
   "cell_type": "code",
   "execution_count": 197,
   "metadata": {},
   "outputs": [],
   "source": [
    "#Set up the X and y matrices\n",
    "y_train_ecb, X_train_ecb = dmatrices(expr_ECB, df_ECB_final, return_type='dataframe')\n",
    "y_test_ecb, X_test_ecb = dmatrices(expr_ECB, df_ECB_final, return_type='dataframe')"
   ]
  },
  {
   "cell_type": "code",
   "execution_count": 199,
   "metadata": {},
   "outputs": [],
   "source": [
    "#Using the statsmodels GLM class, train the Poisson regression model on the training data set.\n",
    "poisson_training_results_ecb = sm.GLM(y_train_ecb, X_train_ecb, family=sm.families.Poisson()).fit()"
   ]
  },
  {
   "cell_type": "code",
   "execution_count": 200,
   "metadata": {},
   "outputs": [
    {
     "name": "stdout",
     "output_type": "stream",
     "text": [
      "                 Generalized Linear Model Regression Results                  \n",
      "==============================================================================\n",
      "Dep. Variable:             trap_count   No. Observations:                 4020\n",
      "Model:                            GLM   Df Residuals:                     4015\n",
      "Model Family:                 Poisson   Df Model:                            4\n",
      "Link Function:                    log   Scale:                          1.0000\n",
      "Method:                          IRLS   Log-Likelihood:                -20982.\n",
      "Date:                Sun, 05 Apr 2020   Deviance:                       36540.\n",
      "Time:                        23:28:44   Pearson chi2:                 8.28e+04\n",
      "No. Iterations:                     6   Covariance Type:             nonrobust\n",
      "==============================================================================\n",
      "                 coef    std err          z      P>|z|      [0.025      0.975]\n",
      "------------------------------------------------------------------------------\n",
      "Intercept      1.2365      0.070     17.763      0.000       1.100       1.373\n",
      "tempf         -0.0035      0.004     -0.925      0.355      -0.011       0.004\n",
      "dwpf           0.0308      0.004      7.917      0.000       0.023       0.038\n",
      "drct          -0.0022      0.000     -5.133      0.000      -0.003      -0.001\n",
      "feel          -0.0221      0.002    -10.177      0.000      -0.026      -0.018\n",
      "==============================================================================\n"
     ]
    }
   ],
   "source": [
    "print(poisson_training_results_ecb.summary())"
   ]
  },
  {
   "cell_type": "code",
   "execution_count": 202,
   "metadata": {},
   "outputs": [],
   "source": [
    "#Make some predictions on the test data set.\n",
    "poisson_predictions_ecb = poisson_training_results_ecb.get_prediction(X_test_ecb)"
   ]
  },
  {
   "cell_type": "code",
   "execution_count": 203,
   "metadata": {},
   "outputs": [
    {
     "name": "stdout",
     "output_type": "stream",
     "text": [
      "          mean   mean_se  mean_ci_lower  mean_ci_upper\n",
      "0     3.484824  0.060365       3.368497       3.605168\n",
      "1     3.484824  0.060365       3.368497       3.605168\n",
      "2     3.484824  0.060365       3.368497       3.605168\n",
      "3     3.420675  0.049845       3.324362       3.519779\n",
      "4     3.420675  0.049845       3.324362       3.519779\n",
      "5     3.420675  0.049845       3.324362       3.519779\n",
      "6     2.625314  0.040086       2.547910       2.705069\n",
      "7     2.625314  0.040086       2.547910       2.705069\n",
      "8     2.625314  0.040086       2.547910       2.705069\n",
      "9     3.686626  0.071031       3.550004       3.828506\n",
      "10    3.686626  0.071031       3.550004       3.828506\n",
      "11    3.686626  0.071031       3.550004       3.828506\n",
      "12    3.244769  0.050942       3.146445       3.346165\n",
      "13    3.244769  0.050942       3.146445       3.346165\n",
      "14    3.244769  0.050942       3.146445       3.346165\n",
      "15    3.111367  0.057636       3.000428       3.226408\n",
      "16    3.111367  0.057636       3.000428       3.226408\n",
      "17    3.111367  0.057636       3.000428       3.226408\n",
      "18    2.909125  0.040040       2.831697       2.988670\n",
      "19    2.909125  0.040040       2.831697       2.988670\n",
      "20    2.909125  0.040040       2.831697       2.988670\n",
      "21    2.155955  0.067482       2.027669       2.292358\n",
      "22    2.155955  0.067482       2.027669       2.292358\n",
      "23    2.155955  0.067482       2.027669       2.292358\n",
      "24    2.958304  0.050285       2.861370       3.058521\n",
      "25    2.958304  0.050285       2.861370       3.058521\n",
      "26    2.958304  0.050285       2.861370       3.058521\n",
      "27    3.267339  0.039274       3.191264       3.345228\n",
      "28    3.267339  0.039274       3.191264       3.345228\n",
      "29    3.267339  0.039274       3.191264       3.345228\n",
      "...        ...       ...            ...            ...\n",
      "3990  2.797668  0.081575       2.642266       2.962210\n",
      "3991  2.797668  0.081575       2.642266       2.962210\n",
      "3992  2.797668  0.081575       2.642266       2.962210\n",
      "3993  2.797668  0.081575       2.642266       2.962210\n",
      "3994  2.797668  0.081575       2.642266       2.962210\n",
      "3995  2.797668  0.081575       2.642266       2.962210\n",
      "3996  2.785602  0.085558       2.622859       2.958443\n",
      "3997  2.785602  0.085558       2.622859       2.958443\n",
      "3998  2.785602  0.085558       2.622859       2.958443\n",
      "3999  2.785602  0.085558       2.622859       2.958443\n",
      "4000  2.785602  0.085558       2.622859       2.958443\n",
      "4001  2.785602  0.085558       2.622859       2.958443\n",
      "4002  2.785602  0.085558       2.622859       2.958443\n",
      "4003  2.785602  0.085558       2.622859       2.958443\n",
      "4004  2.785602  0.085558       2.622859       2.958443\n",
      "4005  2.785602  0.085558       2.622859       2.958443\n",
      "4006  2.785602  0.085558       2.622859       2.958443\n",
      "4007  2.785602  0.085558       2.622859       2.958443\n",
      "4008  2.785602  0.085558       2.622859       2.958443\n",
      "4009  2.785602  0.085558       2.622859       2.958443\n",
      "4010  2.785602  0.085558       2.622859       2.958443\n",
      "4011  2.785602  0.085558       2.622859       2.958443\n",
      "4012  2.785602  0.085558       2.622859       2.958443\n",
      "4013  2.481624  0.074581       2.339670       2.632191\n",
      "4014  2.481624  0.074581       2.339670       2.632191\n",
      "4015  2.481624  0.074581       2.339670       2.632191\n",
      "4016  2.481624  0.074581       2.339670       2.632191\n",
      "4017  2.481624  0.074581       2.339670       2.632191\n",
      "4018  2.481624  0.074581       2.339670       2.632191\n",
      "4019  2.481624  0.074581       2.339670       2.632191\n",
      "\n",
      "[4020 rows x 4 columns]\n"
     ]
    }
   ],
   "source": [
    "#.summary_frame() returns a pandas DataFrame\n",
    "predictions_summary_frame_ecb = poisson_predictions_ecb.summary_frame()\n",
    "print(predictions_summary_frame_ecb)"
   ]
  },
  {
   "cell_type": "code",
   "execution_count": 204,
   "metadata": {},
   "outputs": [],
   "source": [
    "predicted_counts_ecb=predictions_summary_frame_ecb['mean']\n",
    "actual_counts_ecb = y_test_ecb['trap_count']"
   ]
  },
  {
   "cell_type": "code",
   "execution_count": 241,
   "metadata": {},
   "outputs": [
    {
     "name": "stdout",
     "output_type": "stream",
     "text": [
      "0       3.484824\n",
      "1       3.484824\n",
      "2       3.484824\n",
      "3       3.420675\n",
      "4       3.420675\n",
      "5       3.420675\n",
      "6       2.625314\n",
      "7       2.625314\n",
      "8       2.625314\n",
      "9       3.686626\n",
      "10      3.686626\n",
      "11      3.686626\n",
      "12      3.244769\n",
      "13      3.244769\n",
      "14      3.244769\n",
      "15      3.111367\n",
      "16      3.111367\n",
      "17      3.111367\n",
      "18      2.909125\n",
      "19      2.909125\n",
      "20      2.909125\n",
      "21      2.155955\n",
      "22      2.155955\n",
      "23      2.155955\n",
      "24      2.958304\n",
      "25      2.958304\n",
      "26      2.958304\n",
      "27      3.267339\n",
      "28      3.267339\n",
      "29      3.267339\n",
      "          ...   \n",
      "3990    2.797668\n",
      "3991    2.797668\n",
      "3992    2.797668\n",
      "3993    2.797668\n",
      "3994    2.797668\n",
      "3995    2.797668\n",
      "3996    2.785602\n",
      "3997    2.785602\n",
      "3998    2.785602\n",
      "3999    2.785602\n",
      "4000    2.785602\n",
      "4001    2.785602\n",
      "4002    2.785602\n",
      "4003    2.785602\n",
      "4004    2.785602\n",
      "4005    2.785602\n",
      "4006    2.785602\n",
      "4007    2.785602\n",
      "4008    2.785602\n",
      "4009    2.785602\n",
      "4010    2.785602\n",
      "4011    2.785602\n",
      "4012    2.785602\n",
      "4013    2.481624\n",
      "4014    2.481624\n",
      "4015    2.481624\n",
      "4016    2.481624\n",
      "4017    2.481624\n",
      "4018    2.481624\n",
      "4019    2.481624\n",
      "Name: mean, Length: 4020, dtype: float64\n"
     ]
    }
   ],
   "source": [
    "print(predicted_counts_ecb)"
   ]
  },
  {
   "cell_type": "code",
   "execution_count": 206,
   "metadata": {},
   "outputs": [
    {
     "name": "stdout",
     "output_type": "stream",
     "text": [
      "0       16.0\n",
      "1        7.0\n",
      "2       11.0\n",
      "3       25.0\n",
      "4       31.0\n",
      "5        7.0\n",
      "6        3.0\n",
      "7        4.0\n",
      "8        1.0\n",
      "9       12.0\n",
      "10       0.0\n",
      "11       0.0\n",
      "12       4.0\n",
      "13       3.0\n",
      "14       0.0\n",
      "15       5.0\n",
      "16      24.0\n",
      "17       1.0\n",
      "18      13.0\n",
      "19      34.0\n",
      "20       5.0\n",
      "21      17.0\n",
      "22      60.0\n",
      "23       1.0\n",
      "24       1.0\n",
      "25      12.0\n",
      "26       0.0\n",
      "27       1.0\n",
      "28       2.0\n",
      "29       1.0\n",
      "        ... \n",
      "3990     0.0\n",
      "3991     0.0\n",
      "3992     0.0\n",
      "3993     0.0\n",
      "3994     0.0\n",
      "3995     0.0\n",
      "3996     0.0\n",
      "3997     5.0\n",
      "3998     0.0\n",
      "3999     0.0\n",
      "4000     0.0\n",
      "4001     0.0\n",
      "4002     0.0\n",
      "4003     8.0\n",
      "4004     0.0\n",
      "4005     0.0\n",
      "4006     0.0\n",
      "4007     0.0\n",
      "4008     0.0\n",
      "4009     0.0\n",
      "4010     0.0\n",
      "4011     0.0\n",
      "4012     0.0\n",
      "4013     0.0\n",
      "4014     0.0\n",
      "4015     0.0\n",
      "4016     0.0\n",
      "4017     0.0\n",
      "4018     0.0\n",
      "4019     0.0\n",
      "Name: trap_count, Length: 4020, dtype: float64\n"
     ]
    }
   ],
   "source": [
    "print(actual_counts_ecb)"
   ]
  },
  {
   "cell_type": "code",
   "execution_count": 208,
   "metadata": {},
   "outputs": [
    {
     "data": {
      "image/png": "[encoded data removed]",
      "text/plain": [
       "<Figure size 432x288 with 1 Axes>"
      ]
     },
     "metadata": {},
     "output_type": "display_data"
    }
   ],
   "source": [
    "#Mlot the predicted counts versus the actual counts for the test data.\n",
    "fig = plt.figure()\n",
    "fig.suptitle('Predicted versus actual ECB pest counts ')\n",
    "predicted, = plt.plot(X_test_ecb.index, predicted_counts_ecb, 'go-', label='Predicted counts')\n",
    "actual, = plt.plot(X_test_ecb.index, actual_counts_ecb, 'ro-', label='Actual counts')\n",
    "plt.legend(handles=[predicted, actual])\n",
    "plt.show()"
   ]
  },
  {
   "cell_type": "code",
   "execution_count": 210,
   "metadata": {},
   "outputs": [],
   "source": [
    "df_ECB_final['predicted_counts_ecb'] = predicted_counts_ecb"
   ]
  },
  {
   "cell_type": "code",
   "execution_count": 211,
   "metadata": {},
   "outputs": [],
   "source": [
    "#writing into the csv file\n",
    "df_ECB_final.to_csv(\"ECB_predicted_count.csv\", index = False, sep = ',')"
   ]
  },
  {
   "cell_type": "markdown",
   "metadata": {},
   "source": [
    "# selecting weather dataframe within the date range - FAW Pest"
   ]
  },
  {
   "cell_type": "code",
   "execution_count": 224,
   "metadata": {},
   "outputs": [
    {
     "name": "stdout",
     "output_type": "stream",
     "text": [
      "2006-06-19 00:00:00\n",
      "2018-10-15 00:00:00\n"
     ]
    }
   ],
   "source": [
    "print(search_faw_STdate)\n",
    "print(search_faw_ENDdate)"
   ]
  },
  {
   "cell_type": "code",
   "execution_count": 225,
   "metadata": {},
   "outputs": [],
   "source": [
    "df_equation_FAW = df_equation.loc[(df_equation['valid'] >= search_faw_STdate) & (df_equation['valid'] <= search_faw_ENDdate), :]"
   ]
  },
  {
   "cell_type": "code",
   "execution_count": 226,
   "metadata": {},
   "outputs": [],
   "source": [
    "#need to get all the columns from here and sum up fro every week \n",
    "#select date and each column, and find the average for each column\n",
    "df_tempf_FAW = df_equation_FAW[['tmpf','dwpf', 'drct','feel','valid']]\n",
    "df_tempf_FAW[\"tmpf\"] = df_tempf_FAW[\"tmpf\"].fillna(0)\n",
    "df_tempf_FAW[\"dwpf\"] = df_tempf_FAW[\"dwpf\"].fillna(0)\n",
    "df_tempf_FAW[\"drct\"] = df_tempf_FAW[\"drct\"].fillna(0)\n",
    "df_tempf_FAW[\"feel\"] = df_tempf_FAW[\"feel\"].fillna(0)"
   ]
  },
  {
   "cell_type": "code",
   "execution_count": 227,
   "metadata": {},
   "outputs": [
    {
     "name": "stdout",
     "output_type": "stream",
     "text": [
      "total temperature index  642\n",
      "total weeks:  47922\n"
     ]
    }
   ],
   "source": [
    "#calling getweekly_temperature\n",
    "FAW_weather_data_dic = {}\n",
    "getweekly_temperature(df_tempf_FAW,FAW_weather_data_dic)"
   ]
  },
  {
   "cell_type": "code",
   "execution_count": 228,
   "metadata": {},
   "outputs": [],
   "source": [
    "df_FAW_weather = pd.DataFrame(FAW_weather_data_dic)"
   ]
  },
  {
   "cell_type": "code",
   "execution_count": 229,
   "metadata": {},
   "outputs": [],
   "source": [
    "#convert orginal faw date into correct dataframe date\n",
    "df_FAW['date'] = df_FAW['date'].dt.date"
   ]
  },
  {
   "cell_type": "code",
   "execution_count": 230,
   "metadata": {},
   "outputs": [],
   "source": [
    "#combining weather data and pest count data based on the date -----\n",
    "#creating data frame needed for equation\n",
    "df_FAW_weather['date'] = pd.to_datetime(df_FAW_weather['date'])\n",
    "df_FAW_weather['date'] = df_FAW_weather['date'].dt.date\n",
    "df_FAW_final = df_FAW.merge(df_FAW_weather, on='date')"
   ]
  },
  {
   "cell_type": "code",
   "execution_count": 232,
   "metadata": {},
   "outputs": [
    {
     "data": {
      "text/html": [
       "<div>\n",
       "<style scoped>\n",
       "    .dataframe tbody tr th:only-of-type {\n",
       "        vertical-align: middle;\n",
       "    }\n",
       "\n",
       "    .dataframe tbody tr th {\n",
       "        vertical-align: top;\n",
       "    }\n",
       "\n",
       "    .dataframe thead th {\n",
       "        text-align: right;\n",
       "    }\n",
       "</style>\n",
       "<table border=\"1\" class=\"dataframe\">\n",
       "  <thead>\n",
       "    <tr style=\"text-align: right;\">\n",
       "      <th></th>\n",
       "      <th>farm</th>\n",
       "      <th>trap_count</th>\n",
       "      <th>year</th>\n",
       "      <th>date</th>\n",
       "      <th>tempf</th>\n",
       "      <th>dwpf</th>\n",
       "      <th>drct</th>\n",
       "      <th>feel</th>\n",
       "    </tr>\n",
       "  </thead>\n",
       "  <tbody>\n",
       "    <tr>\n",
       "      <th>0</th>\n",
       "      <td>Pelham-G</td>\n",
       "      <td>0</td>\n",
       "      <td>2006</td>\n",
       "      <td>2006-06-19</td>\n",
       "      <td>70.977613</td>\n",
       "      <td>63.913169</td>\n",
       "      <td>63.703704</td>\n",
       "      <td>71.301399</td>\n",
       "    </tr>\n",
       "    <tr>\n",
       "      <th>1</th>\n",
       "      <td>Litchfield-W</td>\n",
       "      <td>0</td>\n",
       "      <td>2006</td>\n",
       "      <td>2006-06-19</td>\n",
       "      <td>70.977613</td>\n",
       "      <td>63.913169</td>\n",
       "      <td>63.703704</td>\n",
       "      <td>71.301399</td>\n",
       "    </tr>\n",
       "    <tr>\n",
       "      <th>2</th>\n",
       "      <td>Litchfield-M</td>\n",
       "      <td>0</td>\n",
       "      <td>2006</td>\n",
       "      <td>2006-06-19</td>\n",
       "      <td>70.977613</td>\n",
       "      <td>63.913169</td>\n",
       "      <td>63.703704</td>\n",
       "      <td>71.301399</td>\n",
       "    </tr>\n",
       "    <tr>\n",
       "      <th>3</th>\n",
       "      <td>Merrimack-T</td>\n",
       "      <td>0</td>\n",
       "      <td>2006</td>\n",
       "      <td>2006-06-19</td>\n",
       "      <td>70.977613</td>\n",
       "      <td>63.913169</td>\n",
       "      <td>63.703704</td>\n",
       "      <td>71.301399</td>\n",
       "    </tr>\n",
       "    <tr>\n",
       "      <th>4</th>\n",
       "      <td>Hollis-L</td>\n",
       "      <td>0</td>\n",
       "      <td>2006</td>\n",
       "      <td>2006-06-19</td>\n",
       "      <td>70.977613</td>\n",
       "      <td>63.913169</td>\n",
       "      <td>63.703704</td>\n",
       "      <td>71.301399</td>\n",
       "    </tr>\n",
       "  </tbody>\n",
       "</table>\n",
       "</div>"
      ],
      "text/plain": [
       "           farm  trap_count  year        date      tempf       dwpf  \\\n",
       "0      Pelham-G           0  2006  2006-06-19  70.977613  63.913169   \n",
       "1  Litchfield-W           0  2006  2006-06-19  70.977613  63.913169   \n",
       "2  Litchfield-M           0  2006  2006-06-19  70.977613  63.913169   \n",
       "3   Merrimack-T           0  2006  2006-06-19  70.977613  63.913169   \n",
       "4      Hollis-L           0  2006  2006-06-19  70.977613  63.913169   \n",
       "\n",
       "        drct       feel  \n",
       "0  63.703704  71.301399  \n",
       "1  63.703704  71.301399  \n",
       "2  63.703704  71.301399  \n",
       "3  63.703704  71.301399  \n",
       "4  63.703704  71.301399  "
      ]
     },
     "execution_count": 232,
     "metadata": {},
     "output_type": "execute_result"
    }
   ],
   "source": [
    "df_FAW_final.head()"
   ]
  },
  {
   "cell_type": "markdown",
   "metadata": {},
   "source": [
    "# predicting trap counts :::: FAW pest"
   ]
  },
  {
   "cell_type": "code",
   "execution_count": 233,
   "metadata": {},
   "outputs": [],
   "source": [
    "#creating training and testign dataset \n",
    "mask_faw = np.random.rand(len(df_FAW_final)) < 0.8\n",
    "df_train_FAW = df_FAW_final[mask_faw]\n",
    "df_test_FAW = df_FAW_final[~mask_faw]"
   ]
  },
  {
   "cell_type": "code",
   "execution_count": 234,
   "metadata": {},
   "outputs": [],
   "source": [
    "expr_FAW = \"\"\"trap_count ~ tempf + dwpf + drct + feel\"\"\""
   ]
  },
  {
   "cell_type": "code",
   "execution_count": 235,
   "metadata": {},
   "outputs": [],
   "source": [
    "#Set up the X and y matrices\n",
    "y_train_faw, X_train_faw = dmatrices(expr_FAW, df_FAW_final, return_type='dataframe')\n",
    "y_test_faw, X_test_faw = dmatrices(expr_FAW, df_FAW_final, return_type='dataframe')"
   ]
  },
  {
   "cell_type": "code",
   "execution_count": 236,
   "metadata": {},
   "outputs": [],
   "source": [
    "#Using the statsmodels GLM class, train the Poisson regression model on the training data set.\n",
    "poisson_training_results_faw = sm.GLM(y_train_faw, X_train_faw, family=sm.families.Poisson()).fit()"
   ]
  },
  {
   "cell_type": "code",
   "execution_count": 237,
   "metadata": {},
   "outputs": [
    {
     "name": "stdout",
     "output_type": "stream",
     "text": [
      "                 Generalized Linear Model Regression Results                  \n",
      "==============================================================================\n",
      "Dep. Variable:             trap_count   No. Observations:                 2634\n",
      "Model:                            GLM   Df Residuals:                     2629\n",
      "Model Family:                 Poisson   Df Model:                            4\n",
      "Link Function:                    log   Scale:                          1.0000\n",
      "Method:                          IRLS   Log-Likelihood:                -13336.\n",
      "Date:                Mon, 06 Apr 2020   Deviance:                       23704.\n",
      "Time:                        08:28:51   Pearson chi2:                 7.29e+04\n",
      "No. Iterations:                     6   Covariance Type:             nonrobust\n",
      "==============================================================================\n",
      "                 coef    std err          z      P>|z|      [0.025      0.975]\n",
      "------------------------------------------------------------------------------\n",
      "Intercept      1.0710      0.084     12.699      0.000       0.906       1.236\n",
      "tempf          0.0774      0.011      7.154      0.000       0.056       0.099\n",
      "dwpf          -0.1255      0.005    -25.234      0.000      -0.135      -0.116\n",
      "drct          -0.0004      0.001     -0.773      0.440      -0.001       0.001\n",
      "feel           0.0298      0.010      2.952      0.003       0.010       0.050\n",
      "==============================================================================\n"
     ]
    }
   ],
   "source": [
    "print(poisson_training_results_faw.summary())"
   ]
  },
  {
   "cell_type": "code",
   "execution_count": 238,
   "metadata": {},
   "outputs": [],
   "source": [
    "#Make some predictions on the test data set.\n",
    "poisson_predictions_faw = poisson_training_results_faw.get_prediction(X_test_faw)"
   ]
  },
  {
   "cell_type": "code",
   "execution_count": 239,
   "metadata": {},
   "outputs": [
    {
     "name": "stdout",
     "output_type": "stream",
     "text": [
      "          mean   mean_se  mean_ci_lower  mean_ci_upper\n",
      "0     1.901839  0.048888       1.808393       2.000113\n",
      "1     1.901839  0.048888       1.808393       2.000113\n",
      "2     1.901839  0.048888       1.808393       2.000113\n",
      "3     1.901839  0.048888       1.808393       2.000113\n",
      "4     1.901839  0.048888       1.808393       2.000113\n",
      "5     1.901839  0.048888       1.808393       2.000113\n",
      "6     1.901839  0.048888       1.808393       2.000113\n",
      "7     1.901839  0.048888       1.808393       2.000113\n",
      "8     1.901839  0.048888       1.808393       2.000113\n",
      "9     1.901839  0.048888       1.808393       2.000113\n",
      "10    1.901839  0.048888       1.808393       2.000113\n",
      "11    1.681121  0.038086       1.608107       1.757450\n",
      "12    1.681121  0.038086       1.608107       1.757450\n",
      "13    1.681121  0.038086       1.608107       1.757450\n",
      "14    1.681121  0.038086       1.608107       1.757450\n",
      "15    1.681121  0.038086       1.608107       1.757450\n",
      "16    1.681121  0.038086       1.608107       1.757450\n",
      "17    1.681121  0.038086       1.608107       1.757450\n",
      "18    1.681121  0.038086       1.608107       1.757450\n",
      "19    1.681121  0.038086       1.608107       1.757450\n",
      "20    1.681121  0.038086       1.608107       1.757450\n",
      "21    1.681121  0.038086       1.608107       1.757450\n",
      "22    3.362671  0.057343       3.252139       3.476960\n",
      "23    3.362671  0.057343       3.252139       3.476960\n",
      "24    3.362671  0.057343       3.252139       3.476960\n",
      "25    3.362671  0.057343       3.252139       3.476960\n",
      "26    3.362671  0.057343       3.252139       3.476960\n",
      "27    3.362671  0.057343       3.252139       3.476960\n",
      "28    3.362671  0.057343       3.252139       3.476960\n",
      "29    3.362671  0.057343       3.252139       3.476960\n",
      "...        ...       ...            ...            ...\n",
      "2604  2.568579  0.090812       2.396617       2.752880\n",
      "2605  2.568579  0.090812       2.396617       2.752880\n",
      "2606  2.566849  0.089726       2.396879       2.748873\n",
      "2607  2.566849  0.089726       2.396879       2.748873\n",
      "2608  2.566849  0.089726       2.396879       2.748873\n",
      "2609  2.566849  0.089726       2.396879       2.748873\n",
      "2610  2.566849  0.089726       2.396879       2.748873\n",
      "2611  2.566849  0.089726       2.396879       2.748873\n",
      "2612  2.566849  0.089726       2.396879       2.748873\n",
      "2613  2.566849  0.089726       2.396879       2.748873\n",
      "2614  2.566849  0.089726       2.396879       2.748873\n",
      "2615  2.566849  0.089726       2.396879       2.748873\n",
      "2616  2.566849  0.089726       2.396879       2.748873\n",
      "2617  2.566849  0.089726       2.396879       2.748873\n",
      "2618  2.566849  0.089726       2.396879       2.748873\n",
      "2619  2.566849  0.089726       2.396879       2.748873\n",
      "2620  2.566849  0.089726       2.396879       2.748873\n",
      "2621  2.566849  0.089726       2.396879       2.748873\n",
      "2622  2.566849  0.089726       2.396879       2.748873\n",
      "2623  2.566849  0.089726       2.396879       2.748873\n",
      "2624  2.479989  0.080162       2.327747       2.642188\n",
      "2625  2.479989  0.080162       2.327747       2.642188\n",
      "2626  2.479989  0.080162       2.327747       2.642188\n",
      "2627  2.479989  0.080162       2.327747       2.642188\n",
      "2628  2.479989  0.080162       2.327747       2.642188\n",
      "2629  2.479989  0.080162       2.327747       2.642188\n",
      "2630  2.479989  0.080162       2.327747       2.642188\n",
      "2631  2.479989  0.080162       2.327747       2.642188\n",
      "2632  2.479989  0.080162       2.327747       2.642188\n",
      "2633  2.479989  0.080162       2.327747       2.642188\n",
      "\n",
      "[2634 rows x 4 columns]\n"
     ]
    }
   ],
   "source": [
    "#.summary_frame() returns a pandas DataFrame\n",
    "predictions_summary_frame_faw = poisson_predictions_faw.summary_frame()\n",
    "print(predictions_summary_frame_faw)"
   ]
  },
  {
   "cell_type": "code",
   "execution_count": 240,
   "metadata": {},
   "outputs": [],
   "source": [
    "predicted_counts_faw=predictions_summary_frame_faw['mean']\n",
    "actual_counts_faw = y_test_faw['trap_count']"
   ]
  },
  {
   "cell_type": "code",
   "execution_count": 242,
   "metadata": {},
   "outputs": [
    {
     "name": "stdout",
     "output_type": "stream",
     "text": [
      "0       1.901839\n",
      "1       1.901839\n",
      "2       1.901839\n",
      "3       1.901839\n",
      "4       1.901839\n",
      "5       1.901839\n",
      "6       1.901839\n",
      "7       1.901839\n",
      "8       1.901839\n",
      "9       1.901839\n",
      "10      1.901839\n",
      "11      1.681121\n",
      "12      1.681121\n",
      "13      1.681121\n",
      "14      1.681121\n",
      "15      1.681121\n",
      "16      1.681121\n",
      "17      1.681121\n",
      "18      1.681121\n",
      "19      1.681121\n",
      "20      1.681121\n",
      "21      1.681121\n",
      "22      3.362671\n",
      "23      3.362671\n",
      "24      3.362671\n",
      "25      3.362671\n",
      "26      3.362671\n",
      "27      3.362671\n",
      "28      3.362671\n",
      "29      3.362671\n",
      "          ...   \n",
      "2604    2.568579\n",
      "2605    2.568579\n",
      "2606    2.566849\n",
      "2607    2.566849\n",
      "2608    2.566849\n",
      "2609    2.566849\n",
      "2610    2.566849\n",
      "2611    2.566849\n",
      "2612    2.566849\n",
      "2613    2.566849\n",
      "2614    2.566849\n",
      "2615    2.566849\n",
      "2616    2.566849\n",
      "2617    2.566849\n",
      "2618    2.566849\n",
      "2619    2.566849\n",
      "2620    2.566849\n",
      "2621    2.566849\n",
      "2622    2.566849\n",
      "2623    2.566849\n",
      "2624    2.479989\n",
      "2625    2.479989\n",
      "2626    2.479989\n",
      "2627    2.479989\n",
      "2628    2.479989\n",
      "2629    2.479989\n",
      "2630    2.479989\n",
      "2631    2.479989\n",
      "2632    2.479989\n",
      "2633    2.479989\n",
      "Name: mean, Length: 2634, dtype: float64\n"
     ]
    }
   ],
   "source": [
    "print(predicted_counts_faw)"
   ]
  },
  {
   "cell_type": "code",
   "execution_count": 243,
   "metadata": {},
   "outputs": [
    {
     "name": "stdout",
     "output_type": "stream",
     "text": [
      "0        0.0\n",
      "1        0.0\n",
      "2        0.0\n",
      "3        0.0\n",
      "4        0.0\n",
      "5        0.0\n",
      "6        0.0\n",
      "7        0.0\n",
      "8        0.0\n",
      "9        0.0\n",
      "10       0.0\n",
      "11       0.0\n",
      "12       0.0\n",
      "13       0.0\n",
      "14       0.0\n",
      "15       0.0\n",
      "16       0.0\n",
      "17       0.0\n",
      "18       0.0\n",
      "19       0.0\n",
      "20       0.0\n",
      "21       0.0\n",
      "22       0.0\n",
      "23       0.0\n",
      "24       0.0\n",
      "25       0.0\n",
      "26       0.0\n",
      "27       0.0\n",
      "28       0.0\n",
      "29       0.0\n",
      "        ... \n",
      "2604     1.0\n",
      "2605     0.0\n",
      "2606     5.0\n",
      "2607    16.0\n",
      "2608    32.0\n",
      "2609     0.0\n",
      "2610     2.0\n",
      "2611     0.0\n",
      "2612     0.0\n",
      "2613     2.0\n",
      "2614    22.0\n",
      "2615    10.0\n",
      "2616     0.0\n",
      "2617     0.0\n",
      "2618     0.0\n",
      "2619     1.0\n",
      "2620     2.0\n",
      "2621     0.0\n",
      "2622     1.0\n",
      "2623     0.0\n",
      "2624     0.0\n",
      "2625     2.0\n",
      "2626     0.0\n",
      "2627     0.0\n",
      "2628     0.0\n",
      "2629     2.0\n",
      "2630     0.0\n",
      "2631     2.0\n",
      "2632     0.0\n",
      "2633     0.0\n",
      "Name: trap_count, Length: 2634, dtype: float64\n"
     ]
    }
   ],
   "source": [
    "print(actual_counts_faw)"
   ]
  },
  {
   "cell_type": "code",
   "execution_count": 245,
   "metadata": {},
   "outputs": [
    {
     "data": {
      "image/png": "[encoded data removed]",
      "text/plain": [
       "<Figure size 432x288 with 1 Axes>"
      ]
     },
     "metadata": {},
     "output_type": "display_data"
    }
   ],
   "source": [
    "#Mlot the predicted counts versus the actual counts for the test data.\n",
    "fig = plt.figure()\n",
    "fig.suptitle('Predicted versus actual FAW pest counts ')\n",
    "predicted, = plt.plot(X_test_faw.index, predicted_counts_faw, 'go-', label='Predicted counts')\n",
    "actual, = plt.plot(X_test_faw.index, actual_counts_faw, 'ro-', label='Actual counts')\n",
    "plt.legend(handles=[predicted, actual])\n",
    "plt.show()"
   ]
  },
  {
   "cell_type": "code",
   "execution_count": 246,
   "metadata": {},
   "outputs": [],
   "source": [
    "df_FAW_final['predicted_counts_faw'] = predicted_counts_faw"
   ]
  },
  {
   "cell_type": "code",
   "execution_count": 247,
   "metadata": {},
   "outputs": [],
   "source": [
    "#writing into the csv file\n",
    "df_FAW_final.to_csv(\"FAW_predicted_count.csv\", index = False, sep = ',')"
   ]
  },
  {
   "cell_type": "code",
   "execution_count": null,
   "metadata": {},
   "outputs": [],
   "source": []
  }
 ],
 "metadata": {
  "kernelspec": {
   "display_name": "Python 3",
   "language": "python",
   "name": "python3"
  },
  "language_info": {
   "codemirror_mode": {
    "name": "ipython",
    "version": 3
   },
   "file_extension": ".py",
   "mimetype": "text/x-python",
   "name": "python",
   "nbconvert_exporter": "python",
   "pygments_lexer": "ipython3",
   "version": "3.6.5"
  },
  "pycharm": {
   "stem_cell": {
    "cell_type": "raw",
    "metadata": {
     "collapsed": false
    },
    "source": []
   }
  }
 },
 "nbformat": 4,
 "nbformat_minor": 2
}
